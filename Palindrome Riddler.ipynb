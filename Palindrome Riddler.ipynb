{
 "cells": [
  {
   "cell_type": "code",
   "execution_count": 1,
   "metadata": {},
   "outputs": [],
   "source": [
    "# functions for checking palindrome\n",
    "def pal(vote):\n",
    "    \"\"\"\n",
    "    Takes the string form of a vote and returns true if it's a palindrome\n",
    "    \"\"\"\n",
    "    rev_vote = vote[::-1]\n",
    "    if vote == rev_vote:\n",
    "        return True\n",
    "    return False\n",
    "\n",
    "def test(num):\n",
    "    \"\"\"\n",
    "    Tests each possible vote combination for given number of senators\n",
    "    \"\"\"\n",
    "    missing = 100 - num\n",
    "    num_pals = 0\n",
    "    yea = num\n",
    "    nay = 0\n",
    "    while yea != 0:\n",
    "        votestr = str(yea) + str(nay)\n",
    "        if pal(votestr):\n",
    "            # print (f'Palindrome: {yea} yeas {nay} nays - {missing} missing')\n",
    "            num_pals += 1\n",
    "        yea -= 1\n",
    "        nay += 1\n",
    "    print (f'Number of possible palindromes with {missing} Senators Missing: {num_pals}')"
   ]
  },
  {
   "cell_type": "code",
   "execution_count": 2,
   "metadata": {},
   "outputs": [
    {
     "name": "stdout",
     "output_type": "stream",
     "text": [
      "Number of possible palindromes with 49 Senators Missing: 1\n",
      "Number of possible palindromes with 48 Senators Missing: 3\n",
      "Number of possible palindromes with 47 Senators Missing: 1\n",
      "Number of possible palindromes with 46 Senators Missing: 2\n",
      "Number of possible palindromes with 45 Senators Missing: 5\n",
      "Number of possible palindromes with 44 Senators Missing: 3\n",
      "Number of possible palindromes with 43 Senators Missing: 1\n",
      "Number of possible palindromes with 42 Senators Missing: 3\n",
      "Number of possible palindromes with 41 Senators Missing: 1\n",
      "Number of possible palindromes with 40 Senators Missing: 2\n",
      "Number of possible palindromes with 39 Senators Missing: 1\n",
      "Number of possible palindromes with 38 Senators Missing: 3\n",
      "Number of possible palindromes with 37 Senators Missing: 1\n",
      "Number of possible palindromes with 36 Senators Missing: 3\n",
      "Number of possible palindromes with 35 Senators Missing: 0\n",
      "Number of possible palindromes with 34 Senators Missing: 8\n",
      "Number of possible palindromes with 33 Senators Missing: 1\n",
      "Number of possible palindromes with 32 Senators Missing: 3\n",
      "Number of possible palindromes with 31 Senators Missing: 1\n",
      "Number of possible palindromes with 30 Senators Missing: 2\n",
      "Number of possible palindromes with 29 Senators Missing: 1\n",
      "Number of possible palindromes with 28 Senators Missing: 3\n",
      "Number of possible palindromes with 27 Senators Missing: 1\n",
      "Number of possible palindromes with 26 Senators Missing: 3\n",
      "Number of possible palindromes with 25 Senators Missing: 1\n",
      "Number of possible palindromes with 24 Senators Missing: 2\n",
      "Number of possible palindromes with 23 Senators Missing: 7\n",
      "Number of possible palindromes with 22 Senators Missing: 3\n",
      "Number of possible palindromes with 21 Senators Missing: 1\n",
      "Number of possible palindromes with 20 Senators Missing: 2\n",
      "Number of possible palindromes with 19 Senators Missing: 1\n",
      "Number of possible palindromes with 18 Senators Missing: 3\n",
      "Number of possible palindromes with 17 Senators Missing: 1\n",
      "Number of possible palindromes with 16 Senators Missing: 3\n",
      "Number of possible palindromes with 15 Senators Missing: 1\n",
      "Number of possible palindromes with 14 Senators Missing: 3\n",
      "Number of possible palindromes with 13 Senators Missing: 0\n",
      "Number of possible palindromes with 12 Senators Missing: 10\n",
      "Number of possible palindromes with 11 Senators Missing: 1\n",
      "Number of possible palindromes with 10 Senators Missing: 2\n",
      "Number of possible palindromes with 9 Senators Missing: 1\n",
      "Number of possible palindromes with 8 Senators Missing: 3\n",
      "Number of possible palindromes with 7 Senators Missing: 1\n",
      "Number of possible palindromes with 6 Senators Missing: 3\n",
      "Number of possible palindromes with 5 Senators Missing: 1\n",
      "Number of possible palindromes with 4 Senators Missing: 3\n",
      "Number of possible palindromes with 3 Senators Missing: 1\n",
      "Number of possible palindromes with 2 Senators Missing: 2\n",
      "Number of possible palindromes with 1 Senators Missing: 9\n",
      "Number of possible palindromes with 0 Senators Missing: 2\n"
     ]
    }
   ],
   "source": [
    "for num in range(51, 101):\n",
    "    test(num)"
   ]
  },
  {
   "cell_type": "markdown",
   "metadata": {},
   "source": [
    "# Extra Credit"
   ]
  },
  {
   "cell_type": "code",
   "execution_count": 3,
   "metadata": {},
   "outputs": [],
   "source": [
    "import requests\n",
    "from bs4 import BeautifulSoup"
   ]
  },
  {
   "cell_type": "code",
   "execution_count": 4,
   "metadata": {},
   "outputs": [],
   "source": [
    "# list of URLS with votes\n",
    "rc2018 = 'https://www.senate.gov/legislative/LIS/roll_call_lists/vote_menu_115_2.htm'\n",
    "rc2017 = 'https://www.senate.gov/legislative/LIS/roll_call_lists/vote_menu_115_1.htm'\n",
    "rc2016 = 'https://www.senate.gov/legislative/LIS/roll_call_lists/vote_menu_114_2.htm'\n",
    "rc2015 = 'https://www.senate.gov/legislative/LIS/roll_call_lists/vote_menu_114_1.htm'\n",
    "rc2014 = 'https://www.senate.gov/legislative/LIS/roll_call_lists/vote_menu_113_2.htm'\n",
    "rc2013 = 'https://www.senate.gov/legislative/LIS/roll_call_lists/vote_menu_113_1.htm'\n",
    "rc2012 = 'https://www.senate.gov/legislative/LIS/roll_call_lists/vote_menu_112_2.htm'\n",
    "rc2011 = 'https://www.senate.gov/legislative/LIS/roll_call_lists/vote_menu_112_1.htm'\n",
    "rc2010 = 'https://www.senate.gov/legislative/LIS/roll_call_lists/vote_menu_111_2.htm'\n",
    "rc2009 = 'https://www.senate.gov/legislative/LIS/roll_call_lists/vote_menu_111_1.htm'\n",
    "rc2008 = 'https://www.senate.gov/legislative/LIS/roll_call_lists/vote_menu_110_2.htm'\n",
    "rc2007 = 'https://www.senate.gov/legislative/LIS/roll_call_lists/vote_menu_110_1.htm'\n",
    "rc2006 = 'https://www.senate.gov/legislative/LIS/roll_call_lists/vote_menu_109_2.htm'\n",
    "rc2005 = 'https://www.senate.gov/legislative/LIS/roll_call_lists/vote_menu_109_1.htm'\n",
    "rc2004 = 'https://www.senate.gov/legislative/LIS/roll_call_lists/vote_menu_108_2.htm'\n",
    "rc2003 = 'https://www.senate.gov/legislative/LIS/roll_call_lists/vote_menu_108_1.htm'\n",
    "rc2002 = 'https://www.senate.gov/legislative/LIS/roll_call_lists/vote_menu_107_2.htm'\n",
    "rc2001 = 'https://www.senate.gov/legislative/LIS/roll_call_lists/vote_menu_107_1.htm'\n",
    "rc2000 = 'https://www.senate.gov/legislative/LIS/roll_call_lists/vote_menu_106_2.htm'\n",
    "rc1999 = 'https://www.senate.gov/legislative/LIS/roll_call_lists/vote_menu_106_1.htm'\n",
    "rc1998 = 'https://www.senate.gov/legislative/LIS/roll_call_lists/vote_menu_105_2.htm'\n",
    "rc1997 = 'https://www.senate.gov/legislative/LIS/roll_call_lists/vote_menu_105_1.htm'\n",
    "rc1996 = 'https://www.senate.gov/legislative/LIS/roll_call_lists/vote_menu_104_2.htm'\n",
    "rc1995 = 'https://www.senate.gov/legislative/LIS/roll_call_lists/vote_menu_104_1.htm'\n",
    "rc1994 = 'https://www.senate.gov/legislative/LIS/roll_call_lists/vote_menu_103_2.htm'\n",
    "rc1993 = 'https://www.senate.gov/legislative/LIS/roll_call_lists/vote_menu_103_1.htm'\n",
    "rc1992 = 'https://www.senate.gov/legislative/LIS/roll_call_lists/vote_menu_102_2.htm'\n",
    "rc1991 = 'https://www.senate.gov/legislative/LIS/roll_call_lists/vote_menu_102_1.htm'\n",
    "rc1990 = 'https://www.senate.gov/legislative/LIS/roll_call_lists/vote_menu_101_2.htm'\n",
    "rc1989 = 'https://www.senate.gov/legislative/LIS/roll_call_lists/vote_menu_101_1.htm'\n",
    "rc_list = [rc2018, rc2017, rc2016, rc2015, rc2014, rc2013, rc2012, rc2011,\n",
    "           rc2010, rc2009, rc2008, rc2007, rc2006, rc2005, rc2004, rc2003,\n",
    "           rc2002, rc2001, rc2000, rc1999, rc1998, rc1997, rc1996, rc1995,\n",
    "           rc1994, rc1993, rc1992, rc1991, rc1990, rc1989]"
   ]
  },
  {
   "cell_type": "code",
   "execution_count": 5,
   "metadata": {},
   "outputs": [],
   "source": [
    "# track total number of palindromes\n",
    "num_pals = 0\n",
    "year = 2018\n",
    "# count the number of palindromes\n",
    "pal_counter = dict((year, 0) for year in range(1989, 2019))\n",
    "for rc in rc_list:\n",
    "    content = requests.get(rc).text\n",
    "    soup = BeautifulSoup(content, 'html.parser')\n",
    "    table = soup.find('table')\n",
    "    trows = table.find_all('tr')\n",
    "    for row in trows[1:]:\n",
    "        vote = row.find('a')\n",
    "        votestr = vote.text.split('(')[1][:-1]\n",
    "        finalstr = votestr.replace('-', '')\n",
    "        if pal(finalstr):\n",
    "            num_pals += 1\n",
    "            pal_counter[year] += 1\n",
    "    year -= 1"
   ]
  },
  {
   "cell_type": "code",
   "execution_count": 6,
   "metadata": {},
   "outputs": [
    {
     "name": "stdout",
     "output_type": "stream",
     "text": [
      "Number of Palindromes: 247\n",
      "Number by year\n",
      "1989: 11\n",
      "1990: 6\n",
      "1991: 4\n",
      "1992: 6\n",
      "1993: 18\n",
      "1994: 8\n",
      "1995: 24\n",
      "1996: 10\n",
      "1997: 10\n",
      "1998: 10\n",
      "1999: 15\n",
      "2000: 12\n",
      "2001: 9\n",
      "2002: 2\n",
      "2003: 5\n",
      "2004: 1\n",
      "2005: 10\n",
      "2006: 3\n",
      "2007: 5\n",
      "2008: 3\n",
      "2009: 4\n",
      "2010: 4\n",
      "2011: 11\n",
      "2012: 11\n",
      "2013: 18\n",
      "2014: 2\n",
      "2015: 13\n",
      "2016: 2\n",
      "2017: 8\n",
      "2018: 2\n"
     ]
    }
   ],
   "source": [
    "print (f'Number of Palindromes: {num_pals}')\n",
    "print ('Number by year')\n",
    "for key in pal_counter.keys():\n",
    "    print (f'{key}: {pal_counter[key]}')"
   ]
  },
  {
   "cell_type": "code",
   "execution_count": null,
   "metadata": {},
   "outputs": [],
   "source": []
  }
 ],
 "metadata": {
  "kernelspec": {
   "display_name": "Python [conda env:py36]",
   "language": "python",
   "name": "conda-env-py36-py"
  },
  "language_info": {
   "codemirror_mode": {
    "name": "ipython",
    "version": 3
   },
   "file_extension": ".py",
   "mimetype": "text/x-python",
   "name": "python",
   "nbconvert_exporter": "python",
   "pygments_lexer": "ipython3",
   "version": "3.6.3"
  }
 },
 "nbformat": 4,
 "nbformat_minor": 2
}
