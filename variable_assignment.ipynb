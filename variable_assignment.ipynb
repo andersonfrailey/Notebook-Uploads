{
 "cells": [
  {
   "cell_type": "code",
   "execution_count": 1,
   "metadata": {},
   "outputs": [],
   "source": [
    "import pandas as pd\n",
    "import taxcalc as tc"
   ]
  },
  {
   "cell_type": "code",
   "execution_count": 2,
   "metadata": {},
   "outputs": [],
   "source": [
    "cps = pd.read_csv('cps.csv.gz')\n",
    "puf = pd.read_csv('../puf_data/puf.csv')"
   ]
  },
  {
   "cell_type": "code",
   "execution_count": 3,
   "metadata": {},
   "outputs": [],
   "source": [
    "year = 2015"
   ]
  },
  {
   "cell_type": "code",
   "execution_count": 4,
   "metadata": {},
   "outputs": [],
   "source": [
    "def distribution(df, numerator, denominator):\n",
    "    df['ratio'] = df[numerator] / df[denominator]\n",
    "    subdf = df[(df[denominator] > 0) & (df['filer'] == 1)]\n",
    "    # variables are equal\n",
    "    full = subdf['s006'][subdf['ratio'] == 1.0].sum() / subdf['s006'].sum()\n",
    "    # numerator is zero \n",
    "    zero = subdf['s006'][subdf['ratio'] == 0.0].sum() / subdf['s006'].sum()\n",
    "    # somewhere in the middle\n",
    "    partial = (subdf['s006'][(subdf['ratio'] != 1.0) & (subdf['ratio'] != 0.0)].sum() /\n",
    "               subdf['s006'].sum())\n",
    "    print(f'Percent of units where {numerator} == {denominator}: {round(full, 3)}')\n",
    "    print(f'Percent of units where {numerator} == 0: {round(zero, 3)}')\n",
    "    print(f'Percent of units where {numerator} != {denominator} & {numerator} != 0: {round(partial, 3)}')\n",
    "    # fraction\n",
    "    fracdf = subdf[(subdf[numerator] != subdf[denominator]) &\n",
    "                   (subdf[numerator] != 0.0)]\n",
    "    frac = (fracdf[numerator] * fracdf['s006']).sum() / (fracdf[denominator] * fracdf['s006']).sum()\n",
    "    print(f'Average fraction where {numerator} != {denominator} & {numerator} != 0: {round(frac, 3)}')"
   ]
  },
  {
   "cell_type": "code",
   "execution_count": 5,
   "metadata": {},
   "outputs": [
    {
     "name": "stdout",
     "output_type": "stream",
     "text": [
      "You loaded data for 2011.\n",
      "Tax-Calculator startup automatically extrapolated your data to 2013.\n"
     ]
    }
   ],
   "source": [
    "# calculator with the PUF\n",
    "rec_g = tc.Records(data=puf)\n",
    "pol_g = tc.Policy()\n",
    "calc_g = tc.Calculator(records=rec_g, policy=pol_g)\n",
    "calc_g.advance_to_year(year)\n",
    "calc_g.calc_all()"
   ]
  },
  {
   "cell_type": "code",
   "execution_count": 6,
   "metadata": {},
   "outputs": [
    {
     "name": "stdout",
     "output_type": "stream",
     "text": [
      "You loaded data for 2014.\n",
      "Your data include the following unused variables that will be ignored:\n",
      "  tanf_ben\n",
      "  wic_ben\n",
      "  housing_ben\n",
      "Tax-Calculator startup automatically extrapolated your data to 2014.\n"
     ]
    }
   ],
   "source": [
    "# calculator with the CPS\n",
    "rec = tc.Records.cps_constructor(data=cps)\n",
    "pol = tc.Policy()\n",
    "calc = tc.Calculator(records=rec, policy=pol)\n",
    "calc.advance_to_year(year)\n",
    "calc.calc_all()"
   ]
  },
  {
   "cell_type": "markdown",
   "metadata": {},
   "source": [
    "# Pensions"
   ]
  },
  {
   "cell_type": "code",
   "execution_count": 7,
   "metadata": {},
   "outputs": [
    {
     "name": "stdout",
     "output_type": "stream",
     "text": [
      "Goal\n",
      "Percent of units where e01700 == e01500: 0.612\n",
      "Percent of units where e01700 == 0: 0.073\n",
      "Percent of units where e01700 != e01500 & e01700 != 0: 0.315\n",
      "Average fraction where e01700 != e01500 & e01700 != 0: 0.577\n"
     ]
    }
   ],
   "source": [
    "print('Goal')\n",
    "distribution(calc_g.dataframe(['e01700', 'e01500', 's006', 'filer']), 'e01700', 'e01500')"
   ]
  },
  {
   "cell_type": "code",
   "execution_count": 8,
   "metadata": {},
   "outputs": [
    {
     "name": "stdout",
     "output_type": "stream",
     "text": [
      "CPS\n",
      "Percent of units where e01700 == e01500: 0.605\n",
      "Percent of units where e01700 == 0: 0.073\n",
      "Percent of units where e01700 != e01500 & e01700 != 0: 0.322\n",
      "Average fraction where e01700 != e01500 & e01700 != 0: 0.577\n"
     ]
    }
   ],
   "source": [
    "print('CPS')\n",
    "distribution(calc.dataframe(['e01700', 'e01500', 's006', 'filer']), 'e01700', 'e01500')"
   ]
  },
  {
   "cell_type": "markdown",
   "metadata": {},
   "source": [
    "# Qualified Dividends"
   ]
  },
  {
   "cell_type": "code",
   "execution_count": 9,
   "metadata": {},
   "outputs": [
    {
     "name": "stdout",
     "output_type": "stream",
     "text": [
      "Goal Distribution\n",
      "Percent of units where e00650 == e00600: 0.429\n",
      "Percent of units where e00650 == 0: 0.093\n",
      "Percent of units where e00650 != e00600 & e00650 != 0: 0.478\n",
      "Average fraction where e00650 != e00600 & e00650 != 0: 0.678\n"
     ]
    }
   ],
   "source": [
    "print('Goal Distribution')\n",
    "distribution(calc_g.dataframe(['e00650', 'e00600', 's006', 'filer']), 'e00650', 'e00600')"
   ]
  },
  {
   "cell_type": "code",
   "execution_count": 10,
   "metadata": {},
   "outputs": [
    {
     "name": "stdout",
     "output_type": "stream",
     "text": [
      "CPS\n",
      "Percent of units where e00650 == e00600: 0.428\n",
      "Percent of units where e00650 == 0: 0.093\n",
      "Percent of units where e00650 != e00600 & e00650 != 0: 0.48\n",
      "Average fraction where e00650 != e00600 & e00650 != 0: 0.678\n"
     ]
    }
   ],
   "source": [
    "print('CPS')\n",
    "distribution(calc.dataframe(['e00650', 'e00600', 's006', 'filer']), 'e00650', 'e00600')"
   ]
  },
  {
   "cell_type": "markdown",
   "metadata": {},
   "source": [
    "# Interest Income"
   ]
  },
  {
   "cell_type": "code",
   "execution_count": 11,
   "metadata": {},
   "outputs": [],
   "source": [
    "def grouped_interest_income(df):\n",
    "    df['int_inc'] = df['e00300'] + df['e00400']\n",
    "    subdf = df[(df['filer'] == 1) & (df['int_inc'] > 0)].copy()\n",
    "    taxable_total = (subdf['e00300'] * subdf['s006']).sum() / (subdf['int_inc'] * subdf['s006']).sum()\n",
    "    print(f'Taxable/Total Ratio for all units where Total > 0: {round(taxable_total, 3)}')\n",
    "    all_taxable = subdf['s006'][subdf['int_inc'] == subdf['e00300']].sum()\n",
    "    all_taxable_prob = all_taxable / subdf['s006'].sum()\n",
    "    print(f'Units with all taxable income: {round(all_taxable * 1e-6, 3)}')\n",
    "    print(f'\\tProb: {round(all_taxable_prob, 3)}')\n",
    "    zero_taxable = subdf['s006'][subdf['e00300'] == 0.0].sum()\n",
    "    zero_taxable_prob = zero_taxable / subdf['s006'].sum()\n",
    "    print(f'Units with no taxable income: {round(zero_taxable * 1e-6, 3)}')\n",
    "    print(f'\\tProb: {round(zero_taxable_prob, 3)}')\n",
    "    some_taxable = subdf['s006'][(subdf['e00300'] != subdf['int_inc']) & (subdf['e00300'] != 0)].sum()\n",
    "    sometaxabledf = subdf[(subdf['e00300'] != subdf['int_inc']) & (subdf['e00300'])]\n",
    "    some_taxable_prob = some_taxable / subdf['s006'].sum()\n",
    "    frac = ((sometaxabledf['s006'] * sometaxabledf['e00300']).sum() /\n",
    "            (sometaxabledf['s006'] * sometaxabledf['int_inc']).sum())\n",
    "    print(f'Units with some taxable interest income: {round(some_taxable * 1e-6, 3)}')\n",
    "    print(f'\\tProb: {round(some_taxable_prob, 3)}')\n",
    "    print(f'\\tFrac: {round(frac, 3)}')"
   ]
  },
  {
   "cell_type": "code",
   "execution_count": 12,
   "metadata": {},
   "outputs": [
    {
     "name": "stdout",
     "output_type": "stream",
     "text": [
      "Goal\n",
      "Taxable/Total Ratio for all units where Total > 0: 0.599\n",
      "Units with all taxable income: 48.801\n",
      "\tProb: 0.882\n",
      "Units with no taxable income: 0.505\n",
      "\tProb: 0.009\n",
      "Units with some taxable interest income: 6.056\n",
      "\tProb: 0.109\n",
      "\tFrac: 0.453\n"
     ]
    }
   ],
   "source": [
    "print('Goal')\n",
    "grouped_interest_income(calc_g.dataframe(['e00300', 'e00400', 'filer', 's006']))"
   ]
  },
  {
   "cell_type": "code",
   "execution_count": 13,
   "metadata": {},
   "outputs": [
    {
     "name": "stdout",
     "output_type": "stream",
     "text": [
      "CPS\n",
      "Taxable/Total Ratio for all units where Total > 0: 1.0\n",
      "Units with all taxable income: 59.064\n",
      "\tProb: 0.882\n",
      "Units with no taxable income: 0.0\n",
      "\tProb: 0.0\n",
      "Units with some taxable interest income: 7.899\n",
      "\tProb: 0.118\n",
      "\tFrac: 0.567\n"
     ]
    }
   ],
   "source": [
    "print('CPS')\n",
    "grouped_interest_income(calc.dataframe(['e00300', 'e00400', 'filer', 's006']))"
   ]
  },
  {
   "cell_type": "code",
   "execution_count": 24,
   "metadata": {},
   "outputs": [],
   "source": [
    "data = calc.dataframe(['e00300', 'e00400', 'filer', 's006'])"
   ]
  },
  {
   "cell_type": "code",
   "execution_count": 25,
   "metadata": {},
   "outputs": [],
   "source": [
    "data['total'] = data['e00300'] + data['e00400']"
   ]
  },
  {
   "cell_type": "code",
   "execution_count": 32,
   "metadata": {},
   "outputs": [
    {
     "data": {
      "text/plain": [
       "0.9999324520948686"
      ]
     },
     "execution_count": 32,
     "metadata": {},
     "output_type": "execute_result"
    }
   ],
   "source": [
    "(data['e00300'] * data['s006']).sum() / (data['total'] * data['s006']).sum()"
   ]
  },
  {
   "cell_type": "code",
   "execution_count": null,
   "metadata": {},
   "outputs": [],
   "source": []
  }
 ],
 "metadata": {
  "kernelspec": {
   "display_name": "Python [conda env:ubipaper]",
   "language": "python",
   "name": "conda-env-ubipaper-py"
  },
  "language_info": {
   "codemirror_mode": {
    "name": "ipython",
    "version": 3
   },
   "file_extension": ".py",
   "mimetype": "text/x-python",
   "name": "python",
   "nbconvert_exporter": "python",
   "pygments_lexer": "ipython3",
   "version": "3.6.4"
  }
 },
 "nbformat": 4,
 "nbformat_minor": 2
}
