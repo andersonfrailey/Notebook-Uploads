{
 "cells": [
  {
   "cell_type": "code",
   "execution_count": 1,
   "metadata": {},
   "outputs": [],
   "source": [
    "import pandas as pd\n",
    "import taxcalc as tc"
   ]
  },
  {
   "cell_type": "code",
   "execution_count": 2,
   "metadata": {},
   "outputs": [],
   "source": [
    "cps = pd.read_csv('cps.csv.gz')\n",
    "puf = pd.read_csv('../puf_data/puf.csv')"
   ]
  },
  {
   "cell_type": "code",
   "execution_count": 3,
   "metadata": {},
   "outputs": [],
   "source": [
    "year = 2015"
   ]
  },
  {
   "cell_type": "code",
   "execution_count": 4,
   "metadata": {},
   "outputs": [],
   "source": [
    "def distribution(df, numerator, denominator):\n",
    "    df['ratio'] = df[numerator] / df[denominator]\n",
    "    subdf = df[(df[denominator] > 0) & (df['filer'] == 1)]\n",
    "    # variables are equal\n",
    "    full = subdf['s006'][subdf['ratio'] == 1.0].sum() / subdf['s006'].sum()\n",
    "    # numerator is zero \n",
    "    zero = subdf['s006'][subdf['ratio'] == 0.0].sum() / subdf['s006'].sum()\n",
    "    # somewhere in the middle\n",
    "    partial = (subdf['s006'][(subdf['ratio'] != 1.0) & (subdf['ratio'] != 0.0)].sum() /\n",
    "               subdf['s006'].sum())\n",
    "    print(f'Percent of units where {numerator} == {denominator}: {round(full, 3)}')\n",
    "    print(f'Percent of units where {numerator} == 0: {round(zero, 3)}')\n",
    "    print(f'Percent of units where {numerator} != {denominator} & {numerator} != 0: {round(partial, 3)}')\n",
    "    # fraction\n",
    "    fracdf = subdf[(subdf[numerator] != subdf[denominator]) &\n",
    "                   (subdf[numerator] != 0.0)]\n",
    "    frac = (fracdf[numerator] * fracdf['s006']).sum() / (fracdf[denominator] * fracdf['s006']).sum()\n",
    "    print(f'Average fraction where {numerator} != {denominator} & {numerator} != 0: {round(frac, 3)}')"
   ]
  },
  {
   "cell_type": "code",
   "execution_count": 5,
   "metadata": {},
   "outputs": [
    {
     "name": "stdout",
     "output_type": "stream",
     "text": [
      "You loaded data for 2011.\n",
      "Tax-Calculator startup automatically extrapolated your data to 2013.\n"
     ]
    }
   ],
   "source": [
    "# calculator with the PUF\n",
    "rec_g = tc.Records(data=puf)\n",
    "pol_g = tc.Policy()\n",
    "calc_g = tc.Calculator(records=rec_g, policy=pol_g)\n",
    "calc_g.advance_to_year(year)\n",
    "calc_g.calc_all()"
   ]
  },
  {
   "cell_type": "code",
   "execution_count": 6,
   "metadata": {},
   "outputs": [
    {
     "name": "stdout",
     "output_type": "stream",
     "text": [
      "You loaded data for 2014.\n",
      "Your data include the following unused variables that will be ignored:\n",
      "  wic_ben\n",
      "  housing_ben\n",
      "  tanf_ben\n",
      "Tax-Calculator startup automatically extrapolated your data to 2014.\n"
     ]
    }
   ],
   "source": [
    "# calculator with the CPS\n",
    "rec = tc.Records.cps_constructor(data=cps)\n",
    "pol = tc.Policy()\n",
    "calc = tc.Calculator(records=rec, policy=pol)\n",
    "calc.advance_to_year(year)\n",
    "calc.calc_all()"
   ]
  },
  {
   "cell_type": "markdown",
   "metadata": {},
   "source": [
    "# Pensions"
   ]
  },
  {
   "cell_type": "code",
   "execution_count": 7,
   "metadata": {},
   "outputs": [
    {
     "name": "stdout",
     "output_type": "stream",
     "text": [
      "Goal\n",
      "Percent of units where e01700 == e01500: 0.612\n",
      "Percent of units where e01700 == 0: 0.073\n",
      "Percent of units where e01700 != e01500 & e01700 != 0: 0.315\n",
      "Average fraction where e01700 != e01500 & e01700 != 0: 0.577\n"
     ]
    }
   ],
   "source": [
    "print('Goal')\n",
    "distribution(calc_g.dataframe(['e01700', 'e01500', 's006', 'filer']), 'e01700', 'e01500')"
   ]
  },
  {
   "cell_type": "code",
   "execution_count": 8,
   "metadata": {},
   "outputs": [
    {
     "name": "stdout",
     "output_type": "stream",
     "text": [
      "CPS\n",
      "Percent of units where e01700 == e01500: 0.605\n",
      "Percent of units where e01700 == 0: 0.073\n",
      "Percent of units where e01700 != e01500 & e01700 != 0: 0.322\n",
      "Average fraction where e01700 != e01500 & e01700 != 0: 0.577\n"
     ]
    }
   ],
   "source": [
    "print('CPS')\n",
    "distribution(calc.dataframe(['e01700', 'e01500', 's006', 'filer']), 'e01700', 'e01500')"
   ]
  },
  {
   "cell_type": "markdown",
   "metadata": {},
   "source": [
    "# Qualified Dividends"
   ]
  },
  {
   "cell_type": "code",
   "execution_count": 9,
   "metadata": {},
   "outputs": [
    {
     "name": "stdout",
     "output_type": "stream",
     "text": [
      "Goal Distribution\n",
      "Percent of units where e00650 == e00600: 0.429\n",
      "Percent of units where e00650 == 0: 0.093\n",
      "Percent of units where e00650 != e00600 & e00650 != 0: 0.478\n",
      "Average fraction where e00650 != e00600 & e00650 != 0: 0.678\n"
     ]
    }
   ],
   "source": [
    "print('Goal Distribution')\n",
    "distribution(calc_g.dataframe(['e00650', 'e00600', 's006', 'filer']), 'e00650', 'e00600')"
   ]
  },
  {
   "cell_type": "code",
   "execution_count": 10,
   "metadata": {},
   "outputs": [
    {
     "name": "stdout",
     "output_type": "stream",
     "text": [
      "CPS\n",
      "Percent of units where e00650 == e00600: 0.428\n",
      "Percent of units where e00650 == 0: 0.093\n",
      "Percent of units where e00650 != e00600 & e00650 != 0: 0.48\n",
      "Average fraction where e00650 != e00600 & e00650 != 0: 0.678\n"
     ]
    }
   ],
   "source": [
    "print('CPS')\n",
    "distribution(calc.dataframe(['e00650', 'e00600', 's006', 'filer']), 'e00650', 'e00600')"
   ]
  },
  {
   "cell_type": "markdown",
   "metadata": {},
   "source": [
    "# Interest Income"
   ]
  },
  {
   "cell_type": "code",
   "execution_count": 11,
   "metadata": {},
   "outputs": [],
   "source": [
    "def grouped_interest_income(df):\n",
    "    df['int_inc'] = df['e00300'] + df['e00400']\n",
    "    subdf = df[(df['filer'] == 1) & (df['int_inc'] > 0)].copy()\n",
    "    taxable_total = (subdf['e00300'] * subdf['s006']).sum() / (subdf['int_inc'] * subdf['s006']).sum()\n",
    "    print(f'Taxable/Total Ratio for all units where Total > 0: {round(taxable_total, 3)}')\n",
    "    all_taxable = subdf['s006'][subdf['int_inc'] == subdf['e00300']].sum()\n",
    "    all_taxable_prob = all_taxable / subdf['s006'].sum()\n",
    "    print(f'Units with all taxable income: {round(all_taxable * 1e-6, 3)}')\n",
    "    print(f'\\tProb: {round(all_taxable_prob, 3)}')\n",
    "    zero_taxable = subdf['s006'][subdf['e00300'] == 0.0].sum()\n",
    "    zero_taxable_prob = zero_taxable / subdf['s006'].sum()\n",
    "    print(f'Units with no taxable income: {round(zero_taxable * 1e-6, 3)}')\n",
    "    print(f'\\tProb: {round(zero_taxable_prob, 3)}')\n",
    "    some_taxable = subdf['s006'][(subdf['e00300'] != subdf['int_inc']) & (subdf['e00300'] != 0)].sum()\n",
    "    some_taxable_prob = some_taxable / subdf['s006'].sum()\n",
    "    print(f'Units with some taxable interest income: {round(some_taxable * 1e-6, 3)}')\n",
    "    print(f'\\tProb: {round(some_taxable_prob, 3)}')\n",
    "    bins = [0, 100, 500, 1000, 5000, 10000, 9e99]\n",
    "    labels = [1, 2, 3, 4, 5, 6]\n",
    "    subdf['bins'] = pd.cut(subdf['int_inc'], bins=bins, labels=labels, right=True, include_lowest=True)\n",
    "    for group in labels:\n",
    "        groupdf = subdf[subdf['bins'] == group]\n",
    "        fully_taxable = groupdf['s006'][groupdf['e00300'] == groupdf['int_inc']].sum()\n",
    "        group_prob = (groupdf['s006'][groupdf['e00300'] == groupdf['int_inc']].sum() /\n",
    "                      groupdf['s006'].sum())\n",
    "        print(f'Group {group}')\n",
    "        print(f'\\tUnits with all taxable income: {round(fully_taxable * 1e-6, 3)}')\n",
    "        print(f'\\tProb: {round(group_prob, 2)}')\n",
    "        nonfull = groupdf[groupdf['e00300'] != groupdf['int_inc']]\n",
    "        # percent of interest income that is taxable\n",
    "        group_frac = (nonfull['e00300'] * nonfull['s006']).sum() / (nonfull['int_inc'] * nonfull['s006']).sum()\n",
    "        nonfull_total = nonfull['s006'].sum()\n",
    "        print(f'\\tUnits with some nontaxable intrest income: {round(nonfull_total * 1e-6, 3)}')\n",
    "        print(f'\\tPortion of interest income that is taxable: {round(group_frac, 2)}')"
   ]
  },
  {
   "cell_type": "code",
   "execution_count": 12,
   "metadata": {},
   "outputs": [
    {
     "name": "stdout",
     "output_type": "stream",
     "text": [
      "Goal\n",
      "Taxable/Total Ratio for all units where Total > 0: 0.599\n",
      "Units with all taxable income: 48.801\n",
      "\tProb: 0.882\n",
      "Units with no taxable income: 0.505\n",
      "\tProb: 0.009\n",
      "Units with some taxable interest income: 6.056\n",
      "\tProb: 0.109\n",
      "Group 1\n",
      "\tUnits with all taxable income: 29.552\n",
      "\tProb: 0.99\n",
      "\tUnits with some nontaxable intrest income: 0.404\n",
      "\tPortion of interest income that is taxable: 0.4\n",
      "Group 2\n",
      "\tUnits with all taxable income: 10.684\n",
      "\tProb: 0.93\n",
      "\tUnits with some nontaxable intrest income: 0.844\n",
      "\tPortion of interest income that is taxable: 0.34\n",
      "Group 3\n",
      "\tUnits with all taxable income: 3.155\n",
      "\tProb: 0.82\n",
      "\tUnits with some nontaxable intrest income: 0.714\n",
      "\tPortion of interest income that is taxable: 0.35\n",
      "Group 4\n",
      "\tUnits with all taxable income: 4.082\n",
      "\tProb: 0.65\n",
      "\tUnits with some nontaxable intrest income: 2.193\n",
      "\tPortion of interest income that is taxable: 0.39\n",
      "Group 5\n",
      "\tUnits with all taxable income: 0.703\n",
      "\tProb: 0.44\n",
      "\tUnits with some nontaxable intrest income: 0.901\n",
      "\tPortion of interest income that is taxable: 0.39\n",
      "Group 6\n",
      "\tUnits with all taxable income: 0.626\n",
      "\tProb: 0.29\n",
      "\tUnits with some nontaxable intrest income: 1.504\n",
      "\tPortion of interest income that is taxable: 0.46\n"
     ]
    }
   ],
   "source": [
    "print('Goal')\n",
    "grouped_interest_income(calc_g.dataframe(['e00300', 'e00400', 'filer', 's006']))"
   ]
  },
  {
   "cell_type": "code",
   "execution_count": 13,
   "metadata": {},
   "outputs": [
    {
     "name": "stdout",
     "output_type": "stream",
     "text": [
      "CPS\n",
      "Taxable/Total Ratio for all units where Total > 0: 0.648\n",
      "Units with all taxable income: 56.871\n",
      "\tProb: 0.849\n",
      "Units with no taxable income: 0.0\n",
      "\tProb: 0.0\n",
      "Units with some taxable interest income: 10.093\n",
      "\tProb: 0.151\n",
      "Group 1\n",
      "\tUnits with all taxable income: 35.873\n",
      "\tProb: 0.99\n",
      "\tUnits with some nontaxable intrest income: 0.436\n",
      "\tPortion of interest income that is taxable: 0.28\n",
      "Group 2\n",
      "\tUnits with all taxable income: 11.82\n",
      "\tProb: 0.92\n",
      "\tUnits with some nontaxable intrest income: 1.066\n",
      "\tPortion of interest income that is taxable: 0.27\n",
      "Group 3\n",
      "\tUnits with all taxable income: 3.279\n",
      "\tProb: 0.74\n",
      "\tUnits with some nontaxable intrest income: 1.164\n",
      "\tPortion of interest income that is taxable: 0.24\n",
      "Group 4\n",
      "\tUnits with all taxable income: 4.397\n",
      "\tProb: 0.58\n",
      "\tUnits with some nontaxable intrest income: 3.173\n",
      "\tPortion of interest income that is taxable: 0.26\n",
      "Group 5\n",
      "\tUnits with all taxable income: 0.78\n",
      "\tProb: 0.33\n",
      "\tUnits with some nontaxable intrest income: 1.55\n",
      "\tPortion of interest income that is taxable: 0.28\n",
      "Group 6\n",
      "\tUnits with all taxable income: 0.722\n",
      "\tProb: 0.21\n",
      "\tUnits with some nontaxable intrest income: 2.703\n",
      "\tPortion of interest income that is taxable: 0.48\n"
     ]
    }
   ],
   "source": [
    "print('CPS')\n",
    "grouped_interest_income(calc.dataframe(['e00300', 'e00400', 'filer', 's006']))"
   ]
  },
  {
   "cell_type": "code",
   "execution_count": null,
   "metadata": {},
   "outputs": [],
   "source": []
  }
 ],
 "metadata": {
  "kernelspec": {
   "display_name": "Python [conda env:ubipaper]",
   "language": "python",
   "name": "conda-env-ubipaper-py"
  },
  "language_info": {
   "codemirror_mode": {
    "name": "ipython",
    "version": 3
   },
   "file_extension": ".py",
   "mimetype": "text/x-python",
   "name": "python",
   "nbconvert_exporter": "python",
   "pygments_lexer": "ipython3",
   "version": "3.6.4"
  }
 },
 "nbformat": 4,
 "nbformat_minor": 2
}
