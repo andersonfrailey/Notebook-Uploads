{
 "cells": [
  {
   "cell_type": "code",
   "execution_count": 1,
   "metadata": {},
   "outputs": [],
   "source": [
    "import taxcalc as tc\n",
    "import pandas as pd\n",
    "import numpy as np"
   ]
  },
  {
   "cell_type": "code",
   "execution_count": 2,
   "metadata": {},
   "outputs": [],
   "source": [
    "def compare(calc1, calc2, syr, eyr):\n",
    "    \"\"\"\n",
    "    Compare aggregate tax liability under two calculators\n",
    "    where calc1 is the baseline and calc2 is the new/reform\n",
    "    \"\"\"\n",
    "    # dictionary to hold aggregate liability\n",
    "    tax_liability = {'year': [], 'base': [], 'new': [], 'diff': []}\n",
    "\n",
    "    # loop through each year collecting aggregate tax liabilities\n",
    "    for year in range(syr, eyr + 1):\n",
    "        try:\n",
    "            calc1.advance_to_year(year)\n",
    "            calc1.calc_all()\n",
    "            tax1 = calc1.weighted_total('combined')\n",
    "        except ValueError:\n",
    "            tax1 = np.nan\n",
    "        calc2.advance_to_year(year)\n",
    "        calc2.calc_all()\n",
    "        tax2 = calc2.weighted_total('combined')\n",
    "        diff = tax2 - tax1\n",
    "        tax_liability['year'].append(year)\n",
    "        tax_liability['base'].append(tax1)\n",
    "        tax_liability['new'].append(tax2)\n",
    "        tax_liability['diff'].append(diff)\n",
    "    return tax_liability"
   ]
  },
  {
   "cell_type": "markdown",
   "metadata": {},
   "source": [
    "# PUF"
   ]
  },
  {
   "cell_type": "code",
   "execution_count": 3,
   "metadata": {},
   "outputs": [],
   "source": [
    "puf_path = 'puf_data/puf.csv'\n",
    "gfactors_path = 'puf_stage1/growfactors.csv'\n",
    "puf_weights = pd.read_csv('puf_stage2/puf_weights.csv.gz')\n",
    "puf_ratios = pd.read_csv('puf_stage3/puf_ratios.csv', index_col=0).transpose()\n",
    "puf_ratios_path = 'puf_stage3/puf_ratios.csv'"
   ]
  },
  {
   "cell_type": "code",
   "execution_count": 4,
   "metadata": {},
   "outputs": [
    {
     "name": "stdout",
     "output_type": "stream",
     "text": [
      "You loaded data for 2011.\n",
      "Tax-Calculator startup automatically extrapolated your data to 2013.\n",
      "You loaded data for 2011.\n",
      "Tax-Calculator startup automatically extrapolated your data to 2013.\n"
     ]
    }
   ],
   "source": [
    "calc_base = tc.Calculator(records=tc.Records(puf_path), policy=tc.Policy())\n",
    "gfactors_new = tc.GrowFactors(gfactors_path)\n",
    "recs_new = tc.Records(puf_path, gfactors=gfactors_new,\n",
    "                      weights=puf_weights,\n",
    "                      adjust_ratios=puf_ratios_path)\n",
    "# adjustment ratios aren't being read correctly for some reason\n",
    "setattr(recs_new, 'ADJ', puf_ratios)\n",
    "pol_new = tc.Policy(gfactors=gfactors_new, num_years=16)\n",
    "puf_consumption = tc.Consumption(num_years=16)\n",
    "puf_behavior = tc.Behavior(num_years=16)\n",
    "calc_new = tc.Calculator(records=recs_new, policy=pol_new,\n",
    "                         consumption=puf_consumption,\n",
    "                         behavior=puf_behavior)"
   ]
  },
  {
   "cell_type": "code",
   "execution_count": 5,
   "metadata": {},
   "outputs": [],
   "source": [
    "puf_comps = compare(calc_base, calc_new, 2018, 2028)"
   ]
  },
  {
   "cell_type": "code",
   "execution_count": 6,
   "metadata": {},
   "outputs": [
    {
     "data": {
      "text/html": [
       "<style  type=\"text/css\" >\n",
       "</style>  \n",
       "<table id=\"T_bcf4bdac_e389_11e8_9a52_f45c89a3caa3\" > \n",
       "<thead>    <tr> \n",
       "        <th class=\"blank level0\" ></th> \n",
       "        <th class=\"col_heading level0 col0\" >year</th> \n",
       "        <th class=\"col_heading level0 col1\" >base</th> \n",
       "        <th class=\"col_heading level0 col2\" >new</th> \n",
       "        <th class=\"col_heading level0 col3\" >diff</th> \n",
       "    </tr></thead> \n",
       "<tbody>    <tr> \n",
       "        <th id=\"T_bcf4bdac_e389_11e8_9a52_f45c89a3caa3level0_row0\" class=\"row_heading level0 row0\" >0</th> \n",
       "        <td id=\"T_bcf4bdac_e389_11e8_9a52_f45c89a3caa3row0_col0\" class=\"data row0 col0\" >2018</td> \n",
       "        <td id=\"T_bcf4bdac_e389_11e8_9a52_f45c89a3caa3row0_col1\" class=\"data row0 col1\" >$2,698,886,061,445.21</td> \n",
       "        <td id=\"T_bcf4bdac_e389_11e8_9a52_f45c89a3caa3row0_col2\" class=\"data row0 col2\" >$2,698,886,061,613.82</td> \n",
       "        <td id=\"T_bcf4bdac_e389_11e8_9a52_f45c89a3caa3row0_col3\" class=\"data row0 col3\" >$168.61</td> \n",
       "    </tr>    <tr> \n",
       "        <th id=\"T_bcf4bdac_e389_11e8_9a52_f45c89a3caa3level0_row1\" class=\"row_heading level0 row1\" >1</th> \n",
       "        <td id=\"T_bcf4bdac_e389_11e8_9a52_f45c89a3caa3row1_col0\" class=\"data row1 col0\" >2019</td> \n",
       "        <td id=\"T_bcf4bdac_e389_11e8_9a52_f45c89a3caa3row1_col1\" class=\"data row1 col1\" >$2,807,971,902,584.51</td> \n",
       "        <td id=\"T_bcf4bdac_e389_11e8_9a52_f45c89a3caa3row1_col2\" class=\"data row1 col2\" >$2,807,971,902,733.95</td> \n",
       "        <td id=\"T_bcf4bdac_e389_11e8_9a52_f45c89a3caa3row1_col3\" class=\"data row1 col3\" >$149.44</td> \n",
       "    </tr>    <tr> \n",
       "        <th id=\"T_bcf4bdac_e389_11e8_9a52_f45c89a3caa3level0_row2\" class=\"row_heading level0 row2\" >2</th> \n",
       "        <td id=\"T_bcf4bdac_e389_11e8_9a52_f45c89a3caa3row2_col0\" class=\"data row2 col0\" >2020</td> \n",
       "        <td id=\"T_bcf4bdac_e389_11e8_9a52_f45c89a3caa3row2_col1\" class=\"data row2 col1\" >$2,914,941,958,015.72</td> \n",
       "        <td id=\"T_bcf4bdac_e389_11e8_9a52_f45c89a3caa3row2_col2\" class=\"data row2 col2\" >$2,914,941,958,325.36</td> \n",
       "        <td id=\"T_bcf4bdac_e389_11e8_9a52_f45c89a3caa3row2_col3\" class=\"data row2 col3\" >$309.65</td> \n",
       "    </tr>    <tr> \n",
       "        <th id=\"T_bcf4bdac_e389_11e8_9a52_f45c89a3caa3level0_row3\" class=\"row_heading level0 row3\" >3</th> \n",
       "        <td id=\"T_bcf4bdac_e389_11e8_9a52_f45c89a3caa3row3_col0\" class=\"data row3 col0\" >2021</td> \n",
       "        <td id=\"T_bcf4bdac_e389_11e8_9a52_f45c89a3caa3row3_col1\" class=\"data row3 col1\" >$3,032,125,291,050.99</td> \n",
       "        <td id=\"T_bcf4bdac_e389_11e8_9a52_f45c89a3caa3row3_col2\" class=\"data row3 col2\" >$3,032,125,291,513.66</td> \n",
       "        <td id=\"T_bcf4bdac_e389_11e8_9a52_f45c89a3caa3row3_col3\" class=\"data row3 col3\" >$462.67</td> \n",
       "    </tr>    <tr> \n",
       "        <th id=\"T_bcf4bdac_e389_11e8_9a52_f45c89a3caa3level0_row4\" class=\"row_heading level0 row4\" >4</th> \n",
       "        <td id=\"T_bcf4bdac_e389_11e8_9a52_f45c89a3caa3row4_col0\" class=\"data row4 col0\" >2022</td> \n",
       "        <td id=\"T_bcf4bdac_e389_11e8_9a52_f45c89a3caa3row4_col1\" class=\"data row4 col1\" >$3,161,917,824,343.74</td> \n",
       "        <td id=\"T_bcf4bdac_e389_11e8_9a52_f45c89a3caa3row4_col2\" class=\"data row4 col2\" >$3,161,917,824,183.44</td> \n",
       "        <td id=\"T_bcf4bdac_e389_11e8_9a52_f45c89a3caa3row4_col3\" class=\"data row4 col3\" >$-160.29</td> \n",
       "    </tr>    <tr> \n",
       "        <th id=\"T_bcf4bdac_e389_11e8_9a52_f45c89a3caa3level0_row5\" class=\"row_heading level0 row5\" >5</th> \n",
       "        <td id=\"T_bcf4bdac_e389_11e8_9a52_f45c89a3caa3row5_col0\" class=\"data row5 col0\" >2023</td> \n",
       "        <td id=\"T_bcf4bdac_e389_11e8_9a52_f45c89a3caa3row5_col1\" class=\"data row5 col1\" >$3,304,099,583,484.29</td> \n",
       "        <td id=\"T_bcf4bdac_e389_11e8_9a52_f45c89a3caa3row5_col2\" class=\"data row5 col2\" >$3,304,099,583,922.09</td> \n",
       "        <td id=\"T_bcf4bdac_e389_11e8_9a52_f45c89a3caa3row5_col3\" class=\"data row5 col3\" >$437.80</td> \n",
       "    </tr>    <tr> \n",
       "        <th id=\"T_bcf4bdac_e389_11e8_9a52_f45c89a3caa3level0_row6\" class=\"row_heading level0 row6\" >6</th> \n",
       "        <td id=\"T_bcf4bdac_e389_11e8_9a52_f45c89a3caa3row6_col0\" class=\"data row6 col0\" >2024</td> \n",
       "        <td id=\"T_bcf4bdac_e389_11e8_9a52_f45c89a3caa3row6_col1\" class=\"data row6 col1\" >$3,453,242,757,532.03</td> \n",
       "        <td id=\"T_bcf4bdac_e389_11e8_9a52_f45c89a3caa3row6_col2\" class=\"data row6 col2\" >$3,453,242,757,907.35</td> \n",
       "        <td id=\"T_bcf4bdac_e389_11e8_9a52_f45c89a3caa3row6_col3\" class=\"data row6 col3\" >$375.32</td> \n",
       "    </tr>    <tr> \n",
       "        <th id=\"T_bcf4bdac_e389_11e8_9a52_f45c89a3caa3level0_row7\" class=\"row_heading level0 row7\" >7</th> \n",
       "        <td id=\"T_bcf4bdac_e389_11e8_9a52_f45c89a3caa3row7_col0\" class=\"data row7 col0\" >2025</td> \n",
       "        <td id=\"T_bcf4bdac_e389_11e8_9a52_f45c89a3caa3row7_col1\" class=\"data row7 col1\" >$3,608,930,900,218.76</td> \n",
       "        <td id=\"T_bcf4bdac_e389_11e8_9a52_f45c89a3caa3row7_col2\" class=\"data row7 col2\" >$3,608,930,939,498.62</td> \n",
       "        <td id=\"T_bcf4bdac_e389_11e8_9a52_f45c89a3caa3row7_col3\" class=\"data row7 col3\" >$39,279.85</td> \n",
       "    </tr>    <tr> \n",
       "        <th id=\"T_bcf4bdac_e389_11e8_9a52_f45c89a3caa3level0_row8\" class=\"row_heading level0 row8\" >8</th> \n",
       "        <td id=\"T_bcf4bdac_e389_11e8_9a52_f45c89a3caa3row8_col0\" class=\"data row8 col0\" >2026</td> \n",
       "        <td id=\"T_bcf4bdac_e389_11e8_9a52_f45c89a3caa3row8_col1\" class=\"data row8 col1\" >$4,005,258,346,192.27</td> \n",
       "        <td id=\"T_bcf4bdac_e389_11e8_9a52_f45c89a3caa3row8_col2\" class=\"data row8 col2\" >$4,005,258,344,747.31</td> \n",
       "        <td id=\"T_bcf4bdac_e389_11e8_9a52_f45c89a3caa3row8_col3\" class=\"data row8 col3\" >$-1,444.96</td> \n",
       "    </tr>    <tr> \n",
       "        <th id=\"T_bcf4bdac_e389_11e8_9a52_f45c89a3caa3level0_row9\" class=\"row_heading level0 row9\" >9</th> \n",
       "        <td id=\"T_bcf4bdac_e389_11e8_9a52_f45c89a3caa3row9_col0\" class=\"data row9 col0\" >2027</td> \n",
       "        <td id=\"T_bcf4bdac_e389_11e8_9a52_f45c89a3caa3row9_col1\" class=\"data row9 col1\" >$4,185,552,553,605.42</td> \n",
       "        <td id=\"T_bcf4bdac_e389_11e8_9a52_f45c89a3caa3row9_col2\" class=\"data row9 col2\" >$4,185,552,551,884.73</td> \n",
       "        <td id=\"T_bcf4bdac_e389_11e8_9a52_f45c89a3caa3row9_col3\" class=\"data row9 col3\" >$-1,720.69</td> \n",
       "    </tr>    <tr> \n",
       "        <th id=\"T_bcf4bdac_e389_11e8_9a52_f45c89a3caa3level0_row10\" class=\"row_heading level0 row10\" >10</th> \n",
       "        <td id=\"T_bcf4bdac_e389_11e8_9a52_f45c89a3caa3row10_col0\" class=\"data row10 col0\" >2028</td> \n",
       "        <td id=\"T_bcf4bdac_e389_11e8_9a52_f45c89a3caa3row10_col1\" class=\"data row10 col1\" >$nan</td> \n",
       "        <td id=\"T_bcf4bdac_e389_11e8_9a52_f45c89a3caa3row10_col2\" class=\"data row10 col2\" >$4,448,919,999,449.46</td> \n",
       "        <td id=\"T_bcf4bdac_e389_11e8_9a52_f45c89a3caa3row10_col3\" class=\"data row10 col3\" >$nan</td> \n",
       "    </tr></tbody> \n",
       "</table> "
      ],
      "text/plain": [
       "<pandas.io.formats.style.Styler at 0x160152160>"
      ]
     },
     "execution_count": 6,
     "metadata": {},
     "output_type": "execute_result"
    }
   ],
   "source": [
    "puf_comp_df = pd.DataFrame(puf_comps)\n",
    "puf_comp_df.style.format(\"${:,.2f}\", subset=['base', 'new', 'diff'])"
   ]
  },
  {
   "cell_type": "markdown",
   "metadata": {},
   "source": [
    "# CPS"
   ]
  },
  {
   "cell_type": "code",
   "execution_count": 7,
   "metadata": {},
   "outputs": [],
   "source": [
    "cps_path = 'cps_data/cps.csv.gz'\n",
    "cps_weights = pd.read_csv('cps_stage2/cps_weights.csv.gz')\n",
    "gfactors_cps = tc.GrowFactors(gfactors_path)"
   ]
  },
  {
   "cell_type": "code",
   "execution_count": 8,
   "metadata": {},
   "outputs": [
    {
     "name": "stdout",
     "output_type": "stream",
     "text": [
      "You loaded data for 2014.\n",
      "Tax-Calculator startup automatically extrapolated your data to 2014.\n",
      "You loaded data for 2014.\n",
      "Tax-Calculator startup automatically extrapolated your data to 2014.\n"
     ]
    }
   ],
   "source": [
    "cps_base = tc.Calculator(records=tc.Records.cps_constructor(), policy=tc.Policy())\n",
    "cps_recs_new = tc.Records(cps_path, gfactors=gfactors_new,\n",
    "                          weights=cps_weights,\n",
    "                          adjust_ratios=None,\n",
    "                          start_year=2014)\n",
    "cps_pol_new = tc.Policy(gfactors=gfactors_new, num_years=16)\n",
    "cps_consumption = tc.Consumption(num_years=16)\n",
    "cps_behavior = tc.Behavior(num_years=16)\n",
    "cps_new = tc.Calculator(records=cps_recs_new, policy=cps_pol_new,\n",
    "                        consumption=cps_consumption,\n",
    "                        behavior=cps_behavior)"
   ]
  },
  {
   "cell_type": "code",
   "execution_count": 9,
   "metadata": {},
   "outputs": [],
   "source": [
    "cps_comps = compare(cps_base, cps_new, 2018, 2028)"
   ]
  },
  {
   "cell_type": "code",
   "execution_count": 10,
   "metadata": {},
   "outputs": [
    {
     "data": {
      "text/html": [
       "<style  type=\"text/css\" >\n",
       "</style>  \n",
       "<table id=\"T_d3fb14f6_e389_11e8_9d04_f45c89a3caa3\" > \n",
       "<thead>    <tr> \n",
       "        <th class=\"blank level0\" ></th> \n",
       "        <th class=\"col_heading level0 col0\" >year</th> \n",
       "        <th class=\"col_heading level0 col1\" >base</th> \n",
       "        <th class=\"col_heading level0 col2\" >new</th> \n",
       "        <th class=\"col_heading level0 col3\" >diff</th> \n",
       "    </tr></thead> \n",
       "<tbody>    <tr> \n",
       "        <th id=\"T_d3fb14f6_e389_11e8_9d04_f45c89a3caa3level0_row0\" class=\"row_heading level0 row0\" >0</th> \n",
       "        <td id=\"T_d3fb14f6_e389_11e8_9d04_f45c89a3caa3row0_col0\" class=\"data row0 col0\" >2018</td> \n",
       "        <td id=\"T_d3fb14f6_e389_11e8_9d04_f45c89a3caa3row0_col1\" class=\"data row0 col1\" >$2,487,514,451,921.76</td> \n",
       "        <td id=\"T_d3fb14f6_e389_11e8_9d04_f45c89a3caa3row0_col2\" class=\"data row0 col2\" >$2,487,514,451,921.76</td> \n",
       "        <td id=\"T_d3fb14f6_e389_11e8_9d04_f45c89a3caa3row0_col3\" class=\"data row0 col3\" >$0.00</td> \n",
       "    </tr>    <tr> \n",
       "        <th id=\"T_d3fb14f6_e389_11e8_9d04_f45c89a3caa3level0_row1\" class=\"row_heading level0 row1\" >1</th> \n",
       "        <td id=\"T_d3fb14f6_e389_11e8_9d04_f45c89a3caa3row1_col0\" class=\"data row1 col0\" >2019</td> \n",
       "        <td id=\"T_d3fb14f6_e389_11e8_9d04_f45c89a3caa3row1_col1\" class=\"data row1 col1\" >$2,611,763,363,898.20</td> \n",
       "        <td id=\"T_d3fb14f6_e389_11e8_9d04_f45c89a3caa3row1_col2\" class=\"data row1 col2\" >$2,611,763,363,898.20</td> \n",
       "        <td id=\"T_d3fb14f6_e389_11e8_9d04_f45c89a3caa3row1_col3\" class=\"data row1 col3\" >$0.00</td> \n",
       "    </tr>    <tr> \n",
       "        <th id=\"T_d3fb14f6_e389_11e8_9d04_f45c89a3caa3level0_row2\" class=\"row_heading level0 row2\" >2</th> \n",
       "        <td id=\"T_d3fb14f6_e389_11e8_9d04_f45c89a3caa3row2_col0\" class=\"data row2 col0\" >2020</td> \n",
       "        <td id=\"T_d3fb14f6_e389_11e8_9d04_f45c89a3caa3row2_col1\" class=\"data row2 col1\" >$2,730,033,510,508.89</td> \n",
       "        <td id=\"T_d3fb14f6_e389_11e8_9d04_f45c89a3caa3row2_col2\" class=\"data row2 col2\" >$2,730,033,510,508.89</td> \n",
       "        <td id=\"T_d3fb14f6_e389_11e8_9d04_f45c89a3caa3row2_col3\" class=\"data row2 col3\" >$0.00</td> \n",
       "    </tr>    <tr> \n",
       "        <th id=\"T_d3fb14f6_e389_11e8_9d04_f45c89a3caa3level0_row3\" class=\"row_heading level0 row3\" >3</th> \n",
       "        <td id=\"T_d3fb14f6_e389_11e8_9d04_f45c89a3caa3row3_col0\" class=\"data row3 col0\" >2021</td> \n",
       "        <td id=\"T_d3fb14f6_e389_11e8_9d04_f45c89a3caa3row3_col1\" class=\"data row3 col1\" >$2,857,078,503,025.49</td> \n",
       "        <td id=\"T_d3fb14f6_e389_11e8_9d04_f45c89a3caa3row3_col2\" class=\"data row3 col2\" >$2,857,078,503,025.49</td> \n",
       "        <td id=\"T_d3fb14f6_e389_11e8_9d04_f45c89a3caa3row3_col3\" class=\"data row3 col3\" >$0.00</td> \n",
       "    </tr>    <tr> \n",
       "        <th id=\"T_d3fb14f6_e389_11e8_9d04_f45c89a3caa3level0_row4\" class=\"row_heading level0 row4\" >4</th> \n",
       "        <td id=\"T_d3fb14f6_e389_11e8_9d04_f45c89a3caa3row4_col0\" class=\"data row4 col0\" >2022</td> \n",
       "        <td id=\"T_d3fb14f6_e389_11e8_9d04_f45c89a3caa3row4_col1\" class=\"data row4 col1\" >$2,992,118,422,141.43</td> \n",
       "        <td id=\"T_d3fb14f6_e389_11e8_9d04_f45c89a3caa3row4_col2\" class=\"data row4 col2\" >$2,992,118,422,141.43</td> \n",
       "        <td id=\"T_d3fb14f6_e389_11e8_9d04_f45c89a3caa3row4_col3\" class=\"data row4 col3\" >$0.00</td> \n",
       "    </tr>    <tr> \n",
       "        <th id=\"T_d3fb14f6_e389_11e8_9d04_f45c89a3caa3level0_row5\" class=\"row_heading level0 row5\" >5</th> \n",
       "        <td id=\"T_d3fb14f6_e389_11e8_9d04_f45c89a3caa3row5_col0\" class=\"data row5 col0\" >2023</td> \n",
       "        <td id=\"T_d3fb14f6_e389_11e8_9d04_f45c89a3caa3row5_col1\" class=\"data row5 col1\" >$3,133,292,206,467.64</td> \n",
       "        <td id=\"T_d3fb14f6_e389_11e8_9d04_f45c89a3caa3row5_col2\" class=\"data row5 col2\" >$3,133,292,206,467.64</td> \n",
       "        <td id=\"T_d3fb14f6_e389_11e8_9d04_f45c89a3caa3row5_col3\" class=\"data row5 col3\" >$0.00</td> \n",
       "    </tr>    <tr> \n",
       "        <th id=\"T_d3fb14f6_e389_11e8_9d04_f45c89a3caa3level0_row6\" class=\"row_heading level0 row6\" >6</th> \n",
       "        <td id=\"T_d3fb14f6_e389_11e8_9d04_f45c89a3caa3row6_col0\" class=\"data row6 col0\" >2024</td> \n",
       "        <td id=\"T_d3fb14f6_e389_11e8_9d04_f45c89a3caa3row6_col1\" class=\"data row6 col1\" >$3,277,055,269,301.72</td> \n",
       "        <td id=\"T_d3fb14f6_e389_11e8_9d04_f45c89a3caa3row6_col2\" class=\"data row6 col2\" >$3,277,055,269,301.72</td> \n",
       "        <td id=\"T_d3fb14f6_e389_11e8_9d04_f45c89a3caa3row6_col3\" class=\"data row6 col3\" >$0.00</td> \n",
       "    </tr>    <tr> \n",
       "        <th id=\"T_d3fb14f6_e389_11e8_9d04_f45c89a3caa3level0_row7\" class=\"row_heading level0 row7\" >7</th> \n",
       "        <td id=\"T_d3fb14f6_e389_11e8_9d04_f45c89a3caa3row7_col0\" class=\"data row7 col0\" >2025</td> \n",
       "        <td id=\"T_d3fb14f6_e389_11e8_9d04_f45c89a3caa3row7_col1\" class=\"data row7 col1\" >$3,420,333,632,991.05</td> \n",
       "        <td id=\"T_d3fb14f6_e389_11e8_9d04_f45c89a3caa3row7_col2\" class=\"data row7 col2\" >$3,420,333,679,132.29</td> \n",
       "        <td id=\"T_d3fb14f6_e389_11e8_9d04_f45c89a3caa3row7_col3\" class=\"data row7 col3\" >$46,141.24</td> \n",
       "    </tr>    <tr> \n",
       "        <th id=\"T_d3fb14f6_e389_11e8_9d04_f45c89a3caa3level0_row8\" class=\"row_heading level0 row8\" >8</th> \n",
       "        <td id=\"T_d3fb14f6_e389_11e8_9d04_f45c89a3caa3row8_col0\" class=\"data row8 col0\" >2026</td> \n",
       "        <td id=\"T_d3fb14f6_e389_11e8_9d04_f45c89a3caa3row8_col1\" class=\"data row8 col1\" >$3,775,740,844,507.71</td> \n",
       "        <td id=\"T_d3fb14f6_e389_11e8_9d04_f45c89a3caa3row8_col2\" class=\"data row8 col2\" >$3,775,740,844,507.71</td> \n",
       "        <td id=\"T_d3fb14f6_e389_11e8_9d04_f45c89a3caa3row8_col3\" class=\"data row8 col3\" >$0.00</td> \n",
       "    </tr>    <tr> \n",
       "        <th id=\"T_d3fb14f6_e389_11e8_9d04_f45c89a3caa3level0_row9\" class=\"row_heading level0 row9\" >9</th> \n",
       "        <td id=\"T_d3fb14f6_e389_11e8_9d04_f45c89a3caa3row9_col0\" class=\"data row9 col0\" >2027</td> \n",
       "        <td id=\"T_d3fb14f6_e389_11e8_9d04_f45c89a3caa3row9_col1\" class=\"data row9 col1\" >$3,938,858,730,194.02</td> \n",
       "        <td id=\"T_d3fb14f6_e389_11e8_9d04_f45c89a3caa3row9_col2\" class=\"data row9 col2\" >$3,938,858,730,194.02</td> \n",
       "        <td id=\"T_d3fb14f6_e389_11e8_9d04_f45c89a3caa3row9_col3\" class=\"data row9 col3\" >$0.00</td> \n",
       "    </tr>    <tr> \n",
       "        <th id=\"T_d3fb14f6_e389_11e8_9d04_f45c89a3caa3level0_row10\" class=\"row_heading level0 row10\" >10</th> \n",
       "        <td id=\"T_d3fb14f6_e389_11e8_9d04_f45c89a3caa3row10_col0\" class=\"data row10 col0\" >2028</td> \n",
       "        <td id=\"T_d3fb14f6_e389_11e8_9d04_f45c89a3caa3row10_col1\" class=\"data row10 col1\" >$nan</td> \n",
       "        <td id=\"T_d3fb14f6_e389_11e8_9d04_f45c89a3caa3row10_col2\" class=\"data row10 col2\" >$4,185,621,085,372.23</td> \n",
       "        <td id=\"T_d3fb14f6_e389_11e8_9d04_f45c89a3caa3row10_col3\" class=\"data row10 col3\" >$nan</td> \n",
       "    </tr></tbody> \n",
       "</table> "
      ],
      "text/plain": [
       "<pandas.io.formats.style.Styler at 0x163426080>"
      ]
     },
     "execution_count": 10,
     "metadata": {},
     "output_type": "execute_result"
    }
   ],
   "source": [
    "cps_comps_df = pd.DataFrame(cps_comps)\n",
    "cps_comps_df.style.format(\"${:,.2f}\", subset=['base', 'new', 'diff'])"
   ]
  },
  {
   "cell_type": "code",
   "execution_count": null,
   "metadata": {},
   "outputs": [],
   "source": []
  }
 ],
 "metadata": {
  "kernelspec": {
   "display_name": "Python [conda env:py36]",
   "language": "python",
   "name": "conda-env-py36-py"
  },
  "language_info": {
   "codemirror_mode": {
    "name": "ipython",
    "version": 3
   },
   "file_extension": ".py",
   "mimetype": "text/x-python",
   "name": "python",
   "nbconvert_exporter": "python",
   "pygments_lexer": "ipython3",
   "version": "3.6.3"
  }
 },
 "nbformat": 4,
 "nbformat_minor": 2
}
