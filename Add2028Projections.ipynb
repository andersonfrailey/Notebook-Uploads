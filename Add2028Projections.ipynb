{
 "cells": [
  {
   "cell_type": "code",
   "execution_count": 1,
   "metadata": {},
   "outputs": [],
   "source": [
    "import taxcalc as tc\n",
    "import pandas as pd\n",
    "import numpy as np"
   ]
  },
  {
   "cell_type": "code",
   "execution_count": 2,
   "metadata": {},
   "outputs": [],
   "source": [
    "def compare(calc1, calc2, syr, eyr):\n",
    "    \"\"\"\n",
    "    Compare aggregate tax liability under two calculators\n",
    "    where calc1 is the baseline and calc2 is the new/reform\n",
    "    \"\"\"\n",
    "    # dictionary to hold aggregate liability\n",
    "    tax_liability = {'year': [], 'base': [], 'new': [], 'diff': []}\n",
    "\n",
    "    # loop through each year collecting aggregate tax liabilities\n",
    "    for year in range(syr, eyr + 1):\n",
    "        try:\n",
    "            calc1.advance_to_year(year)\n",
    "            calc1.calc_all()\n",
    "            tax1 = calc1.weighted_total('combined')\n",
    "        except ValueError:\n",
    "            tax1 = np.nan\n",
    "        calc2.advance_to_year(year)\n",
    "        calc2.calc_all()\n",
    "        tax2 = calc2.weighted_total('combined')\n",
    "        diff = tax2 - tax1\n",
    "        tax_liability['year'].append(year)\n",
    "        tax_liability['base'].append(tax1)\n",
    "        tax_liability['new'].append(tax2)\n",
    "        tax_liability['diff'].append(diff)\n",
    "    return tax_liability"
   ]
  },
  {
   "cell_type": "markdown",
   "metadata": {},
   "source": [
    "# PUF"
   ]
  },
  {
   "cell_type": "code",
   "execution_count": 3,
   "metadata": {},
   "outputs": [],
   "source": [
    "puf_path = 'puf_data/puf.csv'\n",
    "gfactors_path = '/puf_stage1/growfactors.csv'\n",
    "gfactors = pd.read_csv('puf_stage1/growfactors.csv', index_col='YEAR')\n",
    "puf_weights = pd.read_csv('puf_stage2/puf_weights.csv.gz')\n",
    "puf_ratios = pd.read_csv('puf_stage3/puf_ratios.csv', index_col=0).transpose().reset_index(drop=True, inplace=True)\n",
    "puf_ratios_path = 'puf_stage3/puf_ratios.csv'"
   ]
  },
  {
   "cell_type": "code",
   "execution_count": 4,
   "metadata": {},
   "outputs": [
    {
     "name": "stdout",
     "output_type": "stream",
     "text": [
      "WARNING: the Behavior class is deprecated and will be removed soon.\n",
      "FUTURE: use the Behavioral-Responses behresp package OR\n",
      "        use the Tax-Calculator quantity_response function.\n",
      "You loaded data for 2011.\n",
      "Your data include the following unused variables that will be ignored:\n",
      "  filer\n",
      "Tax-Calculator startup automatically extrapolated your data to 2013.\n",
      "WARNING: the Behavior class is deprecated and will be removed soon.\n",
      "FUTURE: use the Behavioral-Responses behresp package OR\n",
      "        use the Tax-Calculator quantity_response function.\n",
      "You loaded data for 2011.\n",
      "Your data include the following unused variables that will be ignored:\n",
      "  filer\n",
      "Tax-Calculator startup automatically extrapolated your data to 2013.\n"
     ]
    }
   ],
   "source": [
    "calc_base = tc.Calculator(records=tc.Records(puf_path), policy=tc.Policy())\n",
    "gfactors_new = tc.GrowFactors(gfactors_path)\n",
    "setattr(gfactors_new, 'gfdf', gfactors)\n",
    "recs_new = tc.Records(puf_path, gfactors=gfactors_new,\n",
    "                      weights=puf_weights,\n",
    "                      adjust_ratios=puf_ratios)\n",
    "pol_new = tc.Policy(gfactors=gfactors_new)\n",
    "puf_behavior = tc.Behavior(num_years=16)\n",
    "calc_new = tc.Calculator(records=recs_new, policy=pol_new,\n",
    "                         behavior=puf_behavior)"
   ]
  },
  {
   "cell_type": "code",
   "execution_count": 5,
   "metadata": {},
   "outputs": [],
   "source": [
    "puf_comps = compare(calc_base, calc_new, 2018, 2027)"
   ]
  },
  {
   "cell_type": "code",
   "execution_count": 6,
   "metadata": {},
   "outputs": [
    {
     "data": {
      "text/html": [
       "<style  type=\"text/css\" >\n",
       "</style>  \n",
       "<table id=\"T_56a6205e_f973_11e8_8424_f45c89a3caa3\" > \n",
       "<thead>    <tr> \n",
       "        <th class=\"blank level0\" ></th> \n",
       "        <th class=\"col_heading level0 col0\" >year</th> \n",
       "        <th class=\"col_heading level0 col1\" >base</th> \n",
       "        <th class=\"col_heading level0 col2\" >new</th> \n",
       "        <th class=\"col_heading level0 col3\" >diff</th> \n",
       "        <th class=\"col_heading level0 col4\" >% diff</th> \n",
       "    </tr></thead> \n",
       "<tbody>    <tr> \n",
       "        <th id=\"T_56a6205e_f973_11e8_8424_f45c89a3caa3level0_row0\" class=\"row_heading level0 row0\" >0</th> \n",
       "        <td id=\"T_56a6205e_f973_11e8_8424_f45c89a3caa3row0_col0\" class=\"data row0 col0\" >2018</td> \n",
       "        <td id=\"T_56a6205e_f973_11e8_8424_f45c89a3caa3row0_col1\" class=\"data row0 col1\" >$2,697,635,861,190.10</td> \n",
       "        <td id=\"T_56a6205e_f973_11e8_8424_f45c89a3caa3row0_col2\" class=\"data row0 col2\" >$2,656,835,033,057.69</td> \n",
       "        <td id=\"T_56a6205e_f973_11e8_8424_f45c89a3caa3row0_col3\" class=\"data row0 col3\" >$-40,800,828,132.40</td> \n",
       "        <td id=\"T_56a6205e_f973_11e8_8424_f45c89a3caa3row0_col4\" class=\"data row0 col4\" >-1.51247</td> \n",
       "    </tr>    <tr> \n",
       "        <th id=\"T_56a6205e_f973_11e8_8424_f45c89a3caa3level0_row1\" class=\"row_heading level0 row1\" >1</th> \n",
       "        <td id=\"T_56a6205e_f973_11e8_8424_f45c89a3caa3row1_col0\" class=\"data row1 col0\" >2019</td> \n",
       "        <td id=\"T_56a6205e_f973_11e8_8424_f45c89a3caa3row1_col1\" class=\"data row1 col1\" >$2,806,712,706,848.11</td> \n",
       "        <td id=\"T_56a6205e_f973_11e8_8424_f45c89a3caa3row1_col2\" class=\"data row1 col2\" >$2,836,125,801,659.90</td> \n",
       "        <td id=\"T_56a6205e_f973_11e8_8424_f45c89a3caa3row1_col3\" class=\"data row1 col3\" >$29,413,094,811.79</td> \n",
       "        <td id=\"T_56a6205e_f973_11e8_8424_f45c89a3caa3row1_col4\" class=\"data row1 col4\" >1.04796</td> \n",
       "    </tr>    <tr> \n",
       "        <th id=\"T_56a6205e_f973_11e8_8424_f45c89a3caa3level0_row2\" class=\"row_heading level0 row2\" >2</th> \n",
       "        <td id=\"T_56a6205e_f973_11e8_8424_f45c89a3caa3row2_col0\" class=\"data row2 col0\" >2020</td> \n",
       "        <td id=\"T_56a6205e_f973_11e8_8424_f45c89a3caa3row2_col1\" class=\"data row2 col1\" >$2,913,652,711,942.36</td> \n",
       "        <td id=\"T_56a6205e_f973_11e8_8424_f45c89a3caa3row2_col2\" class=\"data row2 col2\" >$2,966,825,970,774.47</td> \n",
       "        <td id=\"T_56a6205e_f973_11e8_8424_f45c89a3caa3row2_col3\" class=\"data row2 col3\" >$53,173,258,832.10</td> \n",
       "        <td id=\"T_56a6205e_f973_11e8_8424_f45c89a3caa3row2_col4\" class=\"data row2 col4\" >1.82497</td> \n",
       "    </tr>    <tr> \n",
       "        <th id=\"T_56a6205e_f973_11e8_8424_f45c89a3caa3level0_row3\" class=\"row_heading level0 row3\" >3</th> \n",
       "        <td id=\"T_56a6205e_f973_11e8_8424_f45c89a3caa3row3_col0\" class=\"data row3 col0\" >2021</td> \n",
       "        <td id=\"T_56a6205e_f973_11e8_8424_f45c89a3caa3row3_col1\" class=\"data row3 col1\" >$3,030,799,622,984.32</td> \n",
       "        <td id=\"T_56a6205e_f973_11e8_8424_f45c89a3caa3row3_col2\" class=\"data row3 col2\" >$3,087,463,637,684.19</td> \n",
       "        <td id=\"T_56a6205e_f973_11e8_8424_f45c89a3caa3row3_col3\" class=\"data row3 col3\" >$56,664,014,699.86</td> \n",
       "        <td id=\"T_56a6205e_f973_11e8_8424_f45c89a3caa3row3_col4\" class=\"data row3 col4\" >1.86961</td> \n",
       "    </tr>    <tr> \n",
       "        <th id=\"T_56a6205e_f973_11e8_8424_f45c89a3caa3level0_row4\" class=\"row_heading level0 row4\" >4</th> \n",
       "        <td id=\"T_56a6205e_f973_11e8_8424_f45c89a3caa3row4_col0\" class=\"data row4 col0\" >2022</td> \n",
       "        <td id=\"T_56a6205e_f973_11e8_8424_f45c89a3caa3row4_col1\" class=\"data row4 col1\" >$3,160,565,814,412.93</td> \n",
       "        <td id=\"T_56a6205e_f973_11e8_8424_f45c89a3caa3row4_col2\" class=\"data row4 col2\" >$3,212,674,487,345.93</td> \n",
       "        <td id=\"T_56a6205e_f973_11e8_8424_f45c89a3caa3row4_col3\" class=\"data row4 col3\" >$52,108,672,933.00</td> \n",
       "        <td id=\"T_56a6205e_f973_11e8_8424_f45c89a3caa3row4_col4\" class=\"data row4 col4\" >1.64871</td> \n",
       "    </tr>    <tr> \n",
       "        <th id=\"T_56a6205e_f973_11e8_8424_f45c89a3caa3level0_row5\" class=\"row_heading level0 row5\" >5</th> \n",
       "        <td id=\"T_56a6205e_f973_11e8_8424_f45c89a3caa3row5_col0\" class=\"data row5 col0\" >2023</td> \n",
       "        <td id=\"T_56a6205e_f973_11e8_8424_f45c89a3caa3row5_col1\" class=\"data row5 col1\" >$3,302,696,281,709.51</td> \n",
       "        <td id=\"T_56a6205e_f973_11e8_8424_f45c89a3caa3row5_col2\" class=\"data row5 col2\" >$3,348,396,610,472.89</td> \n",
       "        <td id=\"T_56a6205e_f973_11e8_8424_f45c89a3caa3row5_col3\" class=\"data row5 col3\" >$45,700,328,763.37</td> \n",
       "        <td id=\"T_56a6205e_f973_11e8_8424_f45c89a3caa3row5_col4\" class=\"data row5 col4\" >1.38373</td> \n",
       "    </tr>    <tr> \n",
       "        <th id=\"T_56a6205e_f973_11e8_8424_f45c89a3caa3level0_row6\" class=\"row_heading level0 row6\" >6</th> \n",
       "        <td id=\"T_56a6205e_f973_11e8_8424_f45c89a3caa3row6_col0\" class=\"data row6 col0\" >2024</td> \n",
       "        <td id=\"T_56a6205e_f973_11e8_8424_f45c89a3caa3row6_col1\" class=\"data row6 col1\" >$3,451,801,384,758.67</td> \n",
       "        <td id=\"T_56a6205e_f973_11e8_8424_f45c89a3caa3row6_col2\" class=\"data row6 col2\" >$3,495,307,011,503.59</td> \n",
       "        <td id=\"T_56a6205e_f973_11e8_8424_f45c89a3caa3row6_col3\" class=\"data row6 col3\" >$43,505,626,744.92</td> \n",
       "        <td id=\"T_56a6205e_f973_11e8_8424_f45c89a3caa3row6_col4\" class=\"data row6 col4\" >1.26037</td> \n",
       "    </tr>    <tr> \n",
       "        <th id=\"T_56a6205e_f973_11e8_8424_f45c89a3caa3level0_row7\" class=\"row_heading level0 row7\" >7</th> \n",
       "        <td id=\"T_56a6205e_f973_11e8_8424_f45c89a3caa3row7_col0\" class=\"data row7 col0\" >2025</td> \n",
       "        <td id=\"T_56a6205e_f973_11e8_8424_f45c89a3caa3row7_col1\" class=\"data row7 col1\" >$3,607,438,166,542.78</td> \n",
       "        <td id=\"T_56a6205e_f973_11e8_8424_f45c89a3caa3row7_col2\" class=\"data row7 col2\" >$3,650,936,974,017.17</td> \n",
       "        <td id=\"T_56a6205e_f973_11e8_8424_f45c89a3caa3row7_col3\" class=\"data row7 col3\" >$43,498,807,474.39</td> \n",
       "        <td id=\"T_56a6205e_f973_11e8_8424_f45c89a3caa3row7_col4\" class=\"data row7 col4\" >1.20581</td> \n",
       "    </tr>    <tr> \n",
       "        <th id=\"T_56a6205e_f973_11e8_8424_f45c89a3caa3level0_row8\" class=\"row_heading level0 row8\" >8</th> \n",
       "        <td id=\"T_56a6205e_f973_11e8_8424_f45c89a3caa3row8_col0\" class=\"data row8 col0\" >2026</td> \n",
       "        <td id=\"T_56a6205e_f973_11e8_8424_f45c89a3caa3row8_col1\" class=\"data row8 col1\" >$4,003,922,840,844.45</td> \n",
       "        <td id=\"T_56a6205e_f973_11e8_8424_f45c89a3caa3row8_col2\" class=\"data row8 col2\" >$4,047,121,028,092.82</td> \n",
       "        <td id=\"T_56a6205e_f973_11e8_8424_f45c89a3caa3row8_col3\" class=\"data row8 col3\" >$43,198,187,248.38</td> \n",
       "        <td id=\"T_56a6205e_f973_11e8_8424_f45c89a3caa3row8_col4\" class=\"data row8 col4\" >1.0789</td> \n",
       "    </tr>    <tr> \n",
       "        <th id=\"T_56a6205e_f973_11e8_8424_f45c89a3caa3level0_row9\" class=\"row_heading level0 row9\" >9</th> \n",
       "        <td id=\"T_56a6205e_f973_11e8_8424_f45c89a3caa3row9_col0\" class=\"data row9 col0\" >2027</td> \n",
       "        <td id=\"T_56a6205e_f973_11e8_8424_f45c89a3caa3row9_col1\" class=\"data row9 col1\" >$4,184,166,034,209.22</td> \n",
       "        <td id=\"T_56a6205e_f973_11e8_8424_f45c89a3caa3row9_col2\" class=\"data row9 col2\" >$4,227,835,462,363.94</td> \n",
       "        <td id=\"T_56a6205e_f973_11e8_8424_f45c89a3caa3row9_col3\" class=\"data row9 col3\" >$43,669,428,154.72</td> \n",
       "        <td id=\"T_56a6205e_f973_11e8_8424_f45c89a3caa3row9_col4\" class=\"data row9 col4\" >1.04368</td> \n",
       "    </tr></tbody> \n",
       "</table> "
      ],
      "text/plain": [
       "<pandas.io.formats.style.Styler at 0x15713e0b8>"
      ]
     },
     "execution_count": 6,
     "metadata": {},
     "output_type": "execute_result"
    }
   ],
   "source": [
    "puf_comp_df = pd.DataFrame(puf_comps)\n",
    "puf_comp_df['% diff'] = (puf_comp_df['diff'] / puf_comp_df['base']) * 100\n",
    "puf_comp_df.style.format(\"${:,.2f}\", subset=['base', 'new', 'diff'])"
   ]
  },
  {
   "cell_type": "markdown",
   "metadata": {},
   "source": [
    "# CPS"
   ]
  },
  {
   "cell_type": "code",
   "execution_count": 7,
   "metadata": {},
   "outputs": [],
   "source": [
    "cps_path = 'cps_data/cps.csv.gz'\n",
    "cps_weights = pd.read_csv('cps_stage2/cps_weights.csv.gz')\n",
    "gfactors_cps = tc.GrowFactors(gfactors_path)"
   ]
  },
  {
   "cell_type": "code",
   "execution_count": 8,
   "metadata": {},
   "outputs": [
    {
     "name": "stdout",
     "output_type": "stream",
     "text": [
      "WARNING: the Behavior class is deprecated and will be removed soon.\n",
      "FUTURE: use the Behavioral-Responses behresp package OR\n",
      "        use the Tax-Calculator quantity_response function.\n",
      "You loaded data for 2014.\n",
      "Your data include the following unused variables that will be ignored:\n",
      "  filer\n",
      "Tax-Calculator startup automatically extrapolated your data to 2014.\n",
      "WARNING: the Behavior class is deprecated and will be removed soon.\n",
      "FUTURE: use the Behavioral-Responses behresp package OR\n",
      "        use the Tax-Calculator quantity_response function.\n",
      "You loaded data for 2014.\n",
      "Your data include the following unused variables that will be ignored:\n",
      "  filer\n",
      "Tax-Calculator startup automatically extrapolated your data to 2014.\n"
     ]
    }
   ],
   "source": [
    "cps_base = tc.Calculator(records=tc.Records.cps_constructor(), policy=tc.Policy())\n",
    "cps_recs_new = tc.Records(cps_path, gfactors=gfactors_new,\n",
    "                          weights=cps_weights,\n",
    "                          adjust_ratios=None,\n",
    "                          start_year=2014)\n",
    "cps_pol_new = tc.Policy(gfactors=gfactors_new)\n",
    "cps_behavior = tc.Behavior(num_years=16)\n",
    "cps_new = tc.Calculator(records=cps_recs_new, policy=cps_pol_new,\n",
    "                        behavior=cps_behavior)"
   ]
  },
  {
   "cell_type": "code",
   "execution_count": 9,
   "metadata": {},
   "outputs": [],
   "source": [
    "cps_comps = compare(cps_base, cps_new, 2018, 2027)"
   ]
  },
  {
   "cell_type": "code",
   "execution_count": 10,
   "metadata": {},
   "outputs": [
    {
     "data": {
      "text/html": [
       "<style  type=\"text/css\" >\n",
       "</style>  \n",
       "<table id=\"T_6aa42600_f973_11e8_8a51_f45c89a3caa3\" > \n",
       "<thead>    <tr> \n",
       "        <th class=\"blank level0\" ></th> \n",
       "        <th class=\"col_heading level0 col0\" >year</th> \n",
       "        <th class=\"col_heading level0 col1\" >base</th> \n",
       "        <th class=\"col_heading level0 col2\" >new</th> \n",
       "        <th class=\"col_heading level0 col3\" >diff</th> \n",
       "        <th class=\"col_heading level0 col4\" >% diff</th> \n",
       "    </tr></thead> \n",
       "<tbody>    <tr> \n",
       "        <th id=\"T_6aa42600_f973_11e8_8a51_f45c89a3caa3level0_row0\" class=\"row_heading level0 row0\" >0</th> \n",
       "        <td id=\"T_6aa42600_f973_11e8_8a51_f45c89a3caa3row0_col0\" class=\"data row0 col0\" >2018</td> \n",
       "        <td id=\"T_6aa42600_f973_11e8_8a51_f45c89a3caa3row0_col1\" class=\"data row0 col1\" >$2,487,143,115,305.13</td> \n",
       "        <td id=\"T_6aa42600_f973_11e8_8a51_f45c89a3caa3row0_col2\" class=\"data row0 col2\" >$2,425,285,433,242.08</td> \n",
       "        <td id=\"T_6aa42600_f973_11e8_8a51_f45c89a3caa3row0_col3\" class=\"data row0 col3\" >$-61,857,682,063.04</td> \n",
       "        <td id=\"T_6aa42600_f973_11e8_8a51_f45c89a3caa3row0_col4\" class=\"data row0 col4\" >-2.4871</td> \n",
       "    </tr>    <tr> \n",
       "        <th id=\"T_6aa42600_f973_11e8_8a51_f45c89a3caa3level0_row1\" class=\"row_heading level0 row1\" >1</th> \n",
       "        <td id=\"T_6aa42600_f973_11e8_8a51_f45c89a3caa3row1_col0\" class=\"data row1 col0\" >2019</td> \n",
       "        <td id=\"T_6aa42600_f973_11e8_8a51_f45c89a3caa3row1_col1\" class=\"data row1 col1\" >$2,611,372,571,132.18</td> \n",
       "        <td id=\"T_6aa42600_f973_11e8_8a51_f45c89a3caa3row1_col2\" class=\"data row1 col2\" >$2,605,731,240,722.92</td> \n",
       "        <td id=\"T_6aa42600_f973_11e8_8a51_f45c89a3caa3row1_col3\" class=\"data row1 col3\" >$-5,641,330,409.25</td> \n",
       "        <td id=\"T_6aa42600_f973_11e8_8a51_f45c89a3caa3row1_col4\" class=\"data row1 col4\" >-0.216029</td> \n",
       "    </tr>    <tr> \n",
       "        <th id=\"T_6aa42600_f973_11e8_8a51_f45c89a3caa3level0_row2\" class=\"row_heading level0 row2\" >2</th> \n",
       "        <td id=\"T_6aa42600_f973_11e8_8a51_f45c89a3caa3row2_col0\" class=\"data row2 col0\" >2020</td> \n",
       "        <td id=\"T_6aa42600_f973_11e8_8a51_f45c89a3caa3row2_col1\" class=\"data row2 col1\" >$2,729,622,113,054.46</td> \n",
       "        <td id=\"T_6aa42600_f973_11e8_8a51_f45c89a3caa3row2_col2\" class=\"data row2 col2\" >$2,763,788,243,925.94</td> \n",
       "        <td id=\"T_6aa42600_f973_11e8_8a51_f45c89a3caa3row2_col3\" class=\"data row2 col3\" >$34,166,130,871.48</td> \n",
       "        <td id=\"T_6aa42600_f973_11e8_8a51_f45c89a3caa3row2_col4\" class=\"data row2 col4\" >1.25168</td> \n",
       "    </tr>    <tr> \n",
       "        <th id=\"T_6aa42600_f973_11e8_8a51_f45c89a3caa3level0_row3\" class=\"row_heading level0 row3\" >3</th> \n",
       "        <td id=\"T_6aa42600_f973_11e8_8a51_f45c89a3caa3row3_col0\" class=\"data row3 col0\" >2021</td> \n",
       "        <td id=\"T_6aa42600_f973_11e8_8a51_f45c89a3caa3row3_col1\" class=\"data row3 col1\" >$2,856,651,208,216.11</td> \n",
       "        <td id=\"T_6aa42600_f973_11e8_8a51_f45c89a3caa3row3_col2\" class=\"data row3 col2\" >$2,907,535,885,601.39</td> \n",
       "        <td id=\"T_6aa42600_f973_11e8_8a51_f45c89a3caa3row3_col3\" class=\"data row3 col3\" >$50,884,677,385.29</td> \n",
       "        <td id=\"T_6aa42600_f973_11e8_8a51_f45c89a3caa3row3_col4\" class=\"data row3 col4\" >1.78127</td> \n",
       "    </tr>    <tr> \n",
       "        <th id=\"T_6aa42600_f973_11e8_8a51_f45c89a3caa3level0_row4\" class=\"row_heading level0 row4\" >4</th> \n",
       "        <td id=\"T_6aa42600_f973_11e8_8a51_f45c89a3caa3row4_col0\" class=\"data row4 col0\" >2022</td> \n",
       "        <td id=\"T_6aa42600_f973_11e8_8a51_f45c89a3caa3row4_col1\" class=\"data row4 col1\" >$2,991,674,907,566.06</td> \n",
       "        <td id=\"T_6aa42600_f973_11e8_8a51_f45c89a3caa3row4_col2\" class=\"data row4 col2\" >$3,047,566,327,369.07</td> \n",
       "        <td id=\"T_6aa42600_f973_11e8_8a51_f45c89a3caa3row4_col3\" class=\"data row4 col3\" >$55,891,419,803.01</td> \n",
       "        <td id=\"T_6aa42600_f973_11e8_8a51_f45c89a3caa3row4_col4\" class=\"data row4 col4\" >1.86823</td> \n",
       "    </tr>    <tr> \n",
       "        <th id=\"T_6aa42600_f973_11e8_8a51_f45c89a3caa3level0_row5\" class=\"row_heading level0 row5\" >5</th> \n",
       "        <td id=\"T_6aa42600_f973_11e8_8a51_f45c89a3caa3row5_col0\" class=\"data row5 col0\" >2023</td> \n",
       "        <td id=\"T_6aa42600_f973_11e8_8a51_f45c89a3caa3row5_col1\" class=\"data row5 col1\" >$3,132,830,824,329.71</td> \n",
       "        <td id=\"T_6aa42600_f973_11e8_8a51_f45c89a3caa3row5_col2\" class=\"data row5 col2\" >$3,189,183,768,467.96</td> \n",
       "        <td id=\"T_6aa42600_f973_11e8_8a51_f45c89a3caa3row5_col3\" class=\"data row5 col3\" >$56,352,944,138.25</td> \n",
       "        <td id=\"T_6aa42600_f973_11e8_8a51_f45c89a3caa3row5_col4\" class=\"data row5 col4\" >1.79879</td> \n",
       "    </tr>    <tr> \n",
       "        <th id=\"T_6aa42600_f973_11e8_8a51_f45c89a3caa3level0_row6\" class=\"row_heading level0 row6\" >6</th> \n",
       "        <td id=\"T_6aa42600_f973_11e8_8a51_f45c89a3caa3row6_col0\" class=\"data row6 col0\" >2024</td> \n",
       "        <td id=\"T_6aa42600_f973_11e8_8a51_f45c89a3caa3row6_col1\" class=\"data row6 col1\" >$3,276,581,707,266.39</td> \n",
       "        <td id=\"T_6aa42600_f973_11e8_8a51_f45c89a3caa3row6_col2\" class=\"data row6 col2\" >$3,333,665,296,079.49</td> \n",
       "        <td id=\"T_6aa42600_f973_11e8_8a51_f45c89a3caa3row6_col3\" class=\"data row6 col3\" >$57,083,588,813.10</td> \n",
       "        <td id=\"T_6aa42600_f973_11e8_8a51_f45c89a3caa3row6_col4\" class=\"data row6 col4\" >1.74217</td> \n",
       "    </tr>    <tr> \n",
       "        <th id=\"T_6aa42600_f973_11e8_8a51_f45c89a3caa3level0_row7\" class=\"row_heading level0 row7\" >7</th> \n",
       "        <td id=\"T_6aa42600_f973_11e8_8a51_f45c89a3caa3row7_col0\" class=\"data row7 col0\" >2025</td> \n",
       "        <td id=\"T_6aa42600_f973_11e8_8a51_f45c89a3caa3row7_col1\" class=\"data row7 col1\" >$3,419,847,598,269.39</td> \n",
       "        <td id=\"T_6aa42600_f973_11e8_8a51_f45c89a3caa3row7_col2\" class=\"data row7 col2\" >$3,478,388,591,538.76</td> \n",
       "        <td id=\"T_6aa42600_f973_11e8_8a51_f45c89a3caa3row7_col3\" class=\"data row7 col3\" >$58,540,993,269.38</td> \n",
       "        <td id=\"T_6aa42600_f973_11e8_8a51_f45c89a3caa3row7_col4\" class=\"data row7 col4\" >1.7118</td> \n",
       "    </tr>    <tr> \n",
       "        <th id=\"T_6aa42600_f973_11e8_8a51_f45c89a3caa3level0_row8\" class=\"row_heading level0 row8\" >8</th> \n",
       "        <td id=\"T_6aa42600_f973_11e8_8a51_f45c89a3caa3row8_col0\" class=\"data row8 col0\" >2026</td> \n",
       "        <td id=\"T_6aa42600_f973_11e8_8a51_f45c89a3caa3row8_col1\" class=\"data row8 col1\" >$3,775,395,519,908.75</td> \n",
       "        <td id=\"T_6aa42600_f973_11e8_8a51_f45c89a3caa3row8_col2\" class=\"data row8 col2\" >$3,835,085,165,096.18</td> \n",
       "        <td id=\"T_6aa42600_f973_11e8_8a51_f45c89a3caa3row8_col3\" class=\"data row8 col3\" >$59,689,645,187.43</td> \n",
       "        <td id=\"T_6aa42600_f973_11e8_8a51_f45c89a3caa3row8_col4\" class=\"data row8 col4\" >1.58102</td> \n",
       "    </tr>    <tr> \n",
       "        <th id=\"T_6aa42600_f973_11e8_8a51_f45c89a3caa3level0_row9\" class=\"row_heading level0 row9\" >9</th> \n",
       "        <td id=\"T_6aa42600_f973_11e8_8a51_f45c89a3caa3row9_col0\" class=\"data row9 col0\" >2027</td> \n",
       "        <td id=\"T_6aa42600_f973_11e8_8a51_f45c89a3caa3row9_col1\" class=\"data row9 col1\" >$3,938,500,239,015.11</td> \n",
       "        <td id=\"T_6aa42600_f973_11e8_8a51_f45c89a3caa3row9_col2\" class=\"data row9 col2\" >$3,998,984,962,583.33</td> \n",
       "        <td id=\"T_6aa42600_f973_11e8_8a51_f45c89a3caa3row9_col3\" class=\"data row9 col3\" >$60,484,723,568.22</td> \n",
       "        <td id=\"T_6aa42600_f973_11e8_8a51_f45c89a3caa3row9_col4\" class=\"data row9 col4\" >1.53573</td> \n",
       "    </tr></tbody> \n",
       "</table> "
      ],
      "text/plain": [
       "<pandas.io.formats.style.Styler at 0x156fbbe80>"
      ]
     },
     "execution_count": 10,
     "metadata": {},
     "output_type": "execute_result"
    }
   ],
   "source": [
    "cps_comps_df = pd.DataFrame(cps_comps)\n",
    "cps_comps_df['% diff'] = (cps_comps_df['diff'] / cps_comps_df['base']) * 100\n",
    "cps_comps_df.style.format(\"${:,.2f}\", subset=['base', 'new', 'diff'])"
   ]
  },
  {
   "cell_type": "code",
   "execution_count": null,
   "metadata": {},
   "outputs": [],
   "source": []
  }
 ],
 "metadata": {
  "kernelspec": {
   "display_name": "Python [conda env:py36]",
   "language": "python",
   "name": "conda-env-py36-py"
  },
  "language_info": {
   "codemirror_mode": {
    "name": "ipython",
    "version": 3
   },
   "file_extension": ".py",
   "mimetype": "text/x-python",
   "name": "python",
   "nbconvert_exporter": "python",
   "pygments_lexer": "ipython3",
   "version": "3.6.3"
  }
 },
 "nbformat": 4,
 "nbformat_minor": 2
}
