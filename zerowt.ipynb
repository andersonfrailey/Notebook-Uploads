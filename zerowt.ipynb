{
 "cells": [
  {
   "cell_type": "code",
   "execution_count": 24,
   "metadata": {},
   "outputs": [],
   "source": [
    "import pandas as pd\n",
    "import numpy as np"
   ]
  },
  {
   "cell_type": "code",
   "execution_count": 25,
   "metadata": {},
   "outputs": [],
   "source": [
    "puf = pd.read_csv('puf_data/puf.csv')\n",
    "wt = pd.read_csv('puf_stage2/puf_weights.csv.gz')"
   ]
  },
  {
   "cell_type": "code",
   "execution_count": 26,
   "metadata": {},
   "outputs": [
    {
     "name": "stdout",
     "output_type": "stream",
     "text": [
      "Number of records with a zero weight\n",
      "WT2011 1\n",
      "WT2012 1\n",
      "WT2013 1\n",
      "WT2014 1\n",
      "WT2015 1\n",
      "WT2016 0\n",
      "WT2017 0\n",
      "WT2018 0\n",
      "WT2019 0\n",
      "WT2020 0\n",
      "WT2021 0\n",
      "WT2022 0\n",
      "WT2023 0\n",
      "WT2024 0\n",
      "WT2025 0\n",
      "WT2026 0\n",
      "WT2027 0\n"
     ]
    }
   ],
   "source": [
    "print('Number of records with a zero weight')\n",
    "for col in wt.columns:\n",
    "    print(col, len(wt[col][wt[col] == 0]))"
   ]
  },
  {
   "cell_type": "code",
   "execution_count": 27,
   "metadata": {},
   "outputs": [
    {
     "data": {
      "text/plain": [
       "1"
      ]
     },
     "execution_count": 27,
     "metadata": {},
     "output_type": "execute_result"
    }
   ],
   "source": [
    "len(puf[puf['s006'] == 0])"
   ]
  },
  {
   "cell_type": "code",
   "execution_count": 28,
   "metadata": {},
   "outputs": [
    {
     "data": {
      "text/html": [
       "<div>\n",
       "<style scoped>\n",
       "    .dataframe tbody tr th:only-of-type {\n",
       "        vertical-align: middle;\n",
       "    }\n",
       "\n",
       "    .dataframe tbody tr th {\n",
       "        vertical-align: top;\n",
       "    }\n",
       "\n",
       "    .dataframe thead th {\n",
       "        text-align: right;\n",
       "    }\n",
       "</style>\n",
       "<table border=\"1\" class=\"dataframe\">\n",
       "  <thead>\n",
       "    <tr style=\"text-align: right;\">\n",
       "      <th></th>\n",
       "      <th>DSI</th>\n",
       "      <th>e00200</th>\n",
       "      <th>e00300</th>\n",
       "      <th>e00400</th>\n",
       "      <th>e00600</th>\n",
       "      <th>e00650</th>\n",
       "      <th>e00700</th>\n",
       "      <th>e00800</th>\n",
       "      <th>e00900</th>\n",
       "      <th>e01100</th>\n",
       "      <th>...</th>\n",
       "      <th>e00200p</th>\n",
       "      <th>e00200s</th>\n",
       "      <th>e00900p</th>\n",
       "      <th>e00900s</th>\n",
       "      <th>e02100p</th>\n",
       "      <th>e02100s</th>\n",
       "      <th>k1bx14p</th>\n",
       "      <th>k1bx14s</th>\n",
       "      <th>agi_bin</th>\n",
       "      <th>g20500</th>\n",
       "    </tr>\n",
       "  </thead>\n",
       "  <tbody>\n",
       "    <tr>\n",
       "      <th>35680</th>\n",
       "      <td>0</td>\n",
       "      <td>40000</td>\n",
       "      <td>0</td>\n",
       "      <td>0</td>\n",
       "      <td>0</td>\n",
       "      <td>0</td>\n",
       "      <td>0</td>\n",
       "      <td>0</td>\n",
       "      <td>0</td>\n",
       "      <td>0</td>\n",
       "      <td>...</td>\n",
       "      <td>40000</td>\n",
       "      <td>0</td>\n",
       "      <td>0</td>\n",
       "      <td>0</td>\n",
       "      <td>0</td>\n",
       "      <td>0</td>\n",
       "      <td>0</td>\n",
       "      <td>0</td>\n",
       "      <td>8</td>\n",
       "      <td>0</td>\n",
       "    </tr>\n",
       "  </tbody>\n",
       "</table>\n",
       "<p>1 rows × 87 columns</p>\n",
       "</div>"
      ],
      "text/plain": [
       "       DSI  e00200  e00300  e00400  e00600  e00650  e00700  e00800  e00900  \\\n",
       "35680    0   40000       0       0       0       0       0       0       0   \n",
       "\n",
       "       e01100   ...    e00200p  e00200s  e00900p  e00900s  e02100p  e02100s  \\\n",
       "35680       0   ...      40000        0        0        0        0        0   \n",
       "\n",
       "       k1bx14p  k1bx14s  agi_bin  g20500  \n",
       "35680        0        0        8       0  \n",
       "\n",
       "[1 rows x 87 columns]"
      ]
     },
     "execution_count": 28,
     "metadata": {},
     "output_type": "execute_result"
    }
   ],
   "source": [
    "puf[puf['s006'] == 0]"
   ]
  },
  {
   "cell_type": "code",
   "execution_count": 29,
   "metadata": {},
   "outputs": [],
   "source": [
    "match_puf = pd.read_csv('puf_data/cps-matched-puf.csv')"
   ]
  },
  {
   "cell_type": "markdown",
   "metadata": {},
   "source": [
    "Before rounding, there are no records with a zero weight. The record that has a zero weight after rounding has a positive, though very small, weight before rounding."
   ]
  },
  {
   "cell_type": "code",
   "execution_count": 30,
   "metadata": {},
   "outputs": [
    {
     "data": {
      "text/plain": [
       "0"
      ]
     },
     "execution_count": 30,
     "metadata": {},
     "output_type": "execute_result"
    }
   ],
   "source": [
    "len(match_puf[match_puf['matched_weight'] == 0])"
   ]
  },
  {
   "cell_type": "code",
   "execution_count": 31,
   "metadata": {},
   "outputs": [
    {
     "data": {
      "text/plain": [
       "0.0048743729892066776"
      ]
     },
     "execution_count": 31,
     "metadata": {},
     "output_type": "execute_result"
    }
   ],
   "source": [
    "match_puf['matched_weight'].iloc[35680]"
   ]
  },
  {
   "cell_type": "markdown",
   "metadata": {},
   "source": [
    "As we extrapolate, that record eventually has a weight of one."
   ]
  },
  {
   "cell_type": "code",
   "execution_count": 32,
   "metadata": {},
   "outputs": [
    {
     "name": "stdout",
     "output_type": "stream",
     "text": [
      "WT2011 0\n",
      "WT2012 0\n",
      "WT2013 0\n",
      "WT2014 0\n",
      "WT2015 0\n",
      "WT2016 1\n",
      "WT2017 1\n",
      "WT2018 1\n",
      "WT2019 1\n",
      "WT2020 1\n",
      "WT2021 1\n",
      "WT2022 1\n",
      "WT2023 1\n",
      "WT2024 1\n",
      "WT2025 1\n",
      "WT2026 1\n",
      "WT2027 1\n"
     ]
    }
   ],
   "source": [
    "for col in wt.columns:\n",
    "    print(col, wt[col].iloc[35680])"
   ]
  },
  {
   "cell_type": "markdown",
   "metadata": {},
   "source": [
    "This record also has the smallest weight in the file"
   ]
  },
  {
   "cell_type": "code",
   "execution_count": 33,
   "metadata": {},
   "outputs": [
    {
     "data": {
      "text/plain": [
       "35680     0.004874\n",
       "118979    0.008001\n",
       "68564     0.013373\n",
       "108797    0.014240\n",
       "81000     0.017081\n",
       "184560    0.018572\n",
       "44833     0.032717\n",
       "164027    0.040766\n",
       "143730    0.049468\n",
       "6007      0.058495\n",
       "Name: matched_weight, dtype: float64"
      ]
     },
     "execution_count": 33,
     "metadata": {},
     "output_type": "execute_result"
    }
   ],
   "source": [
    "match_puf['matched_weight'].nsmallest(10)"
   ]
  },
  {
   "cell_type": "code",
   "execution_count": 34,
   "metadata": {},
   "outputs": [
    {
     "data": {
      "text/plain": [
       "35680     0\n",
       "68564     1\n",
       "108797    1\n",
       "118979    1\n",
       "81000     2\n",
       "184560    2\n",
       "44833     3\n",
       "164027    4\n",
       "143730    5\n",
       "6007      6\n",
       "Name: s006, dtype: int64"
      ]
     },
     "execution_count": 34,
     "metadata": {},
     "output_type": "execute_result"
    }
   ],
   "source": [
    "puf['s006'].nsmallest(10)"
   ]
  },
  {
   "cell_type": "code",
   "execution_count": 35,
   "metadata": {},
   "outputs": [
    {
     "data": {
      "text/html": [
       "<div>\n",
       "<style scoped>\n",
       "    .dataframe tbody tr th:only-of-type {\n",
       "        vertical-align: middle;\n",
       "    }\n",
       "\n",
       "    .dataframe tbody tr th {\n",
       "        vertical-align: top;\n",
       "    }\n",
       "\n",
       "    .dataframe thead th {\n",
       "        text-align: right;\n",
       "    }\n",
       "</style>\n",
       "<table border=\"1\" class=\"dataframe\">\n",
       "  <thead>\n",
       "    <tr style=\"text-align: right;\">\n",
       "      <th></th>\n",
       "      <th>WT2011</th>\n",
       "      <th>WT2012</th>\n",
       "      <th>WT2013</th>\n",
       "      <th>WT2014</th>\n",
       "      <th>WT2015</th>\n",
       "      <th>WT2016</th>\n",
       "      <th>WT2017</th>\n",
       "      <th>WT2018</th>\n",
       "      <th>WT2019</th>\n",
       "      <th>WT2020</th>\n",
       "      <th>WT2021</th>\n",
       "      <th>WT2022</th>\n",
       "      <th>WT2023</th>\n",
       "      <th>WT2024</th>\n",
       "      <th>WT2025</th>\n",
       "      <th>WT2026</th>\n",
       "      <th>WT2027</th>\n",
       "    </tr>\n",
       "  </thead>\n",
       "  <tbody>\n",
       "    <tr>\n",
       "      <th>6007</th>\n",
       "      <td>6.0</td>\n",
       "      <td>6.0</td>\n",
       "      <td>6.0</td>\n",
       "      <td>7.0</td>\n",
       "      <td>7.0</td>\n",
       "      <td>7.0</td>\n",
       "      <td>7.0</td>\n",
       "      <td>7.0</td>\n",
       "      <td>8.0</td>\n",
       "      <td>8.0</td>\n",
       "      <td>8.0</td>\n",
       "      <td>NaN</td>\n",
       "      <td>NaN</td>\n",
       "      <td>NaN</td>\n",
       "      <td>9.0</td>\n",
       "      <td>NaN</td>\n",
       "      <td>NaN</td>\n",
       "    </tr>\n",
       "    <tr>\n",
       "      <th>35680</th>\n",
       "      <td>0.0</td>\n",
       "      <td>0.0</td>\n",
       "      <td>0.0</td>\n",
       "      <td>0.0</td>\n",
       "      <td>0.0</td>\n",
       "      <td>1.0</td>\n",
       "      <td>1.0</td>\n",
       "      <td>1.0</td>\n",
       "      <td>1.0</td>\n",
       "      <td>1.0</td>\n",
       "      <td>1.0</td>\n",
       "      <td>1.0</td>\n",
       "      <td>1.0</td>\n",
       "      <td>1.0</td>\n",
       "      <td>1.0</td>\n",
       "      <td>1.0</td>\n",
       "      <td>1.0</td>\n",
       "    </tr>\n",
       "    <tr>\n",
       "      <th>44833</th>\n",
       "      <td>3.0</td>\n",
       "      <td>3.0</td>\n",
       "      <td>3.0</td>\n",
       "      <td>3.0</td>\n",
       "      <td>3.0</td>\n",
       "      <td>3.0</td>\n",
       "      <td>3.0</td>\n",
       "      <td>4.0</td>\n",
       "      <td>4.0</td>\n",
       "      <td>4.0</td>\n",
       "      <td>4.0</td>\n",
       "      <td>4.0</td>\n",
       "      <td>4.0</td>\n",
       "      <td>4.0</td>\n",
       "      <td>4.0</td>\n",
       "      <td>4.0</td>\n",
       "      <td>4.0</td>\n",
       "    </tr>\n",
       "    <tr>\n",
       "      <th>68564</th>\n",
       "      <td>1.0</td>\n",
       "      <td>1.0</td>\n",
       "      <td>1.0</td>\n",
       "      <td>1.0</td>\n",
       "      <td>1.0</td>\n",
       "      <td>1.0</td>\n",
       "      <td>1.0</td>\n",
       "      <td>1.0</td>\n",
       "      <td>1.0</td>\n",
       "      <td>1.0</td>\n",
       "      <td>1.0</td>\n",
       "      <td>2.0</td>\n",
       "      <td>2.0</td>\n",
       "      <td>2.0</td>\n",
       "      <td>2.0</td>\n",
       "      <td>2.0</td>\n",
       "      <td>2.0</td>\n",
       "    </tr>\n",
       "    <tr>\n",
       "      <th>81000</th>\n",
       "      <td>2.0</td>\n",
       "      <td>2.0</td>\n",
       "      <td>2.0</td>\n",
       "      <td>2.0</td>\n",
       "      <td>2.0</td>\n",
       "      <td>2.0</td>\n",
       "      <td>2.0</td>\n",
       "      <td>2.0</td>\n",
       "      <td>2.0</td>\n",
       "      <td>2.0</td>\n",
       "      <td>2.0</td>\n",
       "      <td>2.0</td>\n",
       "      <td>2.0</td>\n",
       "      <td>2.0</td>\n",
       "      <td>2.0</td>\n",
       "      <td>2.0</td>\n",
       "      <td>2.0</td>\n",
       "    </tr>\n",
       "    <tr>\n",
       "      <th>108797</th>\n",
       "      <td>1.0</td>\n",
       "      <td>1.0</td>\n",
       "      <td>2.0</td>\n",
       "      <td>2.0</td>\n",
       "      <td>2.0</td>\n",
       "      <td>2.0</td>\n",
       "      <td>2.0</td>\n",
       "      <td>2.0</td>\n",
       "      <td>2.0</td>\n",
       "      <td>2.0</td>\n",
       "      <td>2.0</td>\n",
       "      <td>2.0</td>\n",
       "      <td>2.0</td>\n",
       "      <td>2.0</td>\n",
       "      <td>2.0</td>\n",
       "      <td>2.0</td>\n",
       "      <td>2.0</td>\n",
       "    </tr>\n",
       "    <tr>\n",
       "      <th>118979</th>\n",
       "      <td>1.0</td>\n",
       "      <td>1.0</td>\n",
       "      <td>1.0</td>\n",
       "      <td>1.0</td>\n",
       "      <td>1.0</td>\n",
       "      <td>1.0</td>\n",
       "      <td>1.0</td>\n",
       "      <td>1.0</td>\n",
       "      <td>1.0</td>\n",
       "      <td>1.0</td>\n",
       "      <td>1.0</td>\n",
       "      <td>1.0</td>\n",
       "      <td>1.0</td>\n",
       "      <td>1.0</td>\n",
       "      <td>1.0</td>\n",
       "      <td>1.0</td>\n",
       "      <td>1.0</td>\n",
       "    </tr>\n",
       "    <tr>\n",
       "      <th>143730</th>\n",
       "      <td>5.0</td>\n",
       "      <td>5.0</td>\n",
       "      <td>5.0</td>\n",
       "      <td>5.0</td>\n",
       "      <td>5.0</td>\n",
       "      <td>5.0</td>\n",
       "      <td>5.0</td>\n",
       "      <td>5.0</td>\n",
       "      <td>5.0</td>\n",
       "      <td>5.0</td>\n",
       "      <td>6.0</td>\n",
       "      <td>6.0</td>\n",
       "      <td>6.0</td>\n",
       "      <td>6.0</td>\n",
       "      <td>6.0</td>\n",
       "      <td>6.0</td>\n",
       "      <td>6.0</td>\n",
       "    </tr>\n",
       "    <tr>\n",
       "      <th>164027</th>\n",
       "      <td>4.0</td>\n",
       "      <td>4.0</td>\n",
       "      <td>4.0</td>\n",
       "      <td>4.0</td>\n",
       "      <td>4.0</td>\n",
       "      <td>4.0</td>\n",
       "      <td>4.0</td>\n",
       "      <td>4.0</td>\n",
       "      <td>4.0</td>\n",
       "      <td>4.0</td>\n",
       "      <td>5.0</td>\n",
       "      <td>5.0</td>\n",
       "      <td>5.0</td>\n",
       "      <td>5.0</td>\n",
       "      <td>5.0</td>\n",
       "      <td>5.0</td>\n",
       "      <td>5.0</td>\n",
       "    </tr>\n",
       "    <tr>\n",
       "      <th>184560</th>\n",
       "      <td>2.0</td>\n",
       "      <td>2.0</td>\n",
       "      <td>2.0</td>\n",
       "      <td>2.0</td>\n",
       "      <td>2.0</td>\n",
       "      <td>2.0</td>\n",
       "      <td>2.0</td>\n",
       "      <td>2.0</td>\n",
       "      <td>2.0</td>\n",
       "      <td>2.0</td>\n",
       "      <td>2.0</td>\n",
       "      <td>2.0</td>\n",
       "      <td>2.0</td>\n",
       "      <td>2.0</td>\n",
       "      <td>2.0</td>\n",
       "      <td>2.0</td>\n",
       "      <td>2.0</td>\n",
       "    </tr>\n",
       "    <tr>\n",
       "      <th>192154</th>\n",
       "      <td>NaN</td>\n",
       "      <td>NaN</td>\n",
       "      <td>NaN</td>\n",
       "      <td>NaN</td>\n",
       "      <td>NaN</td>\n",
       "      <td>NaN</td>\n",
       "      <td>NaN</td>\n",
       "      <td>NaN</td>\n",
       "      <td>NaN</td>\n",
       "      <td>NaN</td>\n",
       "      <td>NaN</td>\n",
       "      <td>NaN</td>\n",
       "      <td>NaN</td>\n",
       "      <td>NaN</td>\n",
       "      <td>NaN</td>\n",
       "      <td>9.0</td>\n",
       "      <td>9.0</td>\n",
       "    </tr>\n",
       "    <tr>\n",
       "      <th>220011</th>\n",
       "      <td>NaN</td>\n",
       "      <td>NaN</td>\n",
       "      <td>NaN</td>\n",
       "      <td>NaN</td>\n",
       "      <td>NaN</td>\n",
       "      <td>NaN</td>\n",
       "      <td>NaN</td>\n",
       "      <td>NaN</td>\n",
       "      <td>NaN</td>\n",
       "      <td>NaN</td>\n",
       "      <td>NaN</td>\n",
       "      <td>8.0</td>\n",
       "      <td>8.0</td>\n",
       "      <td>8.0</td>\n",
       "      <td>NaN</td>\n",
       "      <td>NaN</td>\n",
       "      <td>NaN</td>\n",
       "    </tr>\n",
       "  </tbody>\n",
       "</table>\n",
       "</div>"
      ],
      "text/plain": [
       "        WT2011  WT2012  WT2013  WT2014  WT2015  WT2016  WT2017  WT2018  \\\n",
       "6007       6.0     6.0     6.0     7.0     7.0     7.0     7.0     7.0   \n",
       "35680      0.0     0.0     0.0     0.0     0.0     1.0     1.0     1.0   \n",
       "44833      3.0     3.0     3.0     3.0     3.0     3.0     3.0     4.0   \n",
       "68564      1.0     1.0     1.0     1.0     1.0     1.0     1.0     1.0   \n",
       "81000      2.0     2.0     2.0     2.0     2.0     2.0     2.0     2.0   \n",
       "108797     1.0     1.0     2.0     2.0     2.0     2.0     2.0     2.0   \n",
       "118979     1.0     1.0     1.0     1.0     1.0     1.0     1.0     1.0   \n",
       "143730     5.0     5.0     5.0     5.0     5.0     5.0     5.0     5.0   \n",
       "164027     4.0     4.0     4.0     4.0     4.0     4.0     4.0     4.0   \n",
       "184560     2.0     2.0     2.0     2.0     2.0     2.0     2.0     2.0   \n",
       "192154     NaN     NaN     NaN     NaN     NaN     NaN     NaN     NaN   \n",
       "220011     NaN     NaN     NaN     NaN     NaN     NaN     NaN     NaN   \n",
       "\n",
       "        WT2019  WT2020  WT2021  WT2022  WT2023  WT2024  WT2025  WT2026  WT2027  \n",
       "6007       8.0     8.0     8.0     NaN     NaN     NaN     9.0     NaN     NaN  \n",
       "35680      1.0     1.0     1.0     1.0     1.0     1.0     1.0     1.0     1.0  \n",
       "44833      4.0     4.0     4.0     4.0     4.0     4.0     4.0     4.0     4.0  \n",
       "68564      1.0     1.0     1.0     2.0     2.0     2.0     2.0     2.0     2.0  \n",
       "81000      2.0     2.0     2.0     2.0     2.0     2.0     2.0     2.0     2.0  \n",
       "108797     2.0     2.0     2.0     2.0     2.0     2.0     2.0     2.0     2.0  \n",
       "118979     1.0     1.0     1.0     1.0     1.0     1.0     1.0     1.0     1.0  \n",
       "143730     5.0     5.0     6.0     6.0     6.0     6.0     6.0     6.0     6.0  \n",
       "164027     4.0     4.0     5.0     5.0     5.0     5.0     5.0     5.0     5.0  \n",
       "184560     2.0     2.0     2.0     2.0     2.0     2.0     2.0     2.0     2.0  \n",
       "192154     NaN     NaN     NaN     NaN     NaN     NaN     NaN     9.0     9.0  \n",
       "220011     NaN     NaN     NaN     8.0     8.0     8.0     NaN     NaN     NaN  "
      ]
     },
     "execution_count": 35,
     "metadata": {},
     "output_type": "execute_result"
    }
   ],
   "source": [
    "smallest = {}\n",
    "for col in wt.columns:\n",
    "    smallest[col] = wt[col].nsmallest(10)\n",
    "pd.DataFrame(smallest)"
   ]
  },
  {
   "cell_type": "markdown",
   "metadata": {},
   "source": [
    "Don't worry about all of the NaN values in the above table. I checked and those values aren't actually null (see below). I think that is just a weird feature of the `nsmallest()` method."
   ]
  },
  {
   "cell_type": "code",
   "execution_count": 36,
   "metadata": {},
   "outputs": [
    {
     "data": {
      "text/plain": [
       "9"
      ]
     },
     "execution_count": 36,
     "metadata": {},
     "output_type": "execute_result"
    }
   ],
   "source": [
    "wt['WT2023'].iloc[6007]"
   ]
  },
  {
   "cell_type": "code",
   "execution_count": 37,
   "metadata": {},
   "outputs": [
    {
     "name": "stdout",
     "output_type": "stream",
     "text": [
      "WT2011 0\n",
      "WT2012 0\n",
      "WT2013 0\n",
      "WT2014 0\n",
      "WT2015 0\n",
      "WT2016 0\n",
      "WT2017 0\n",
      "WT2018 0\n",
      "WT2019 0\n",
      "WT2020 0\n",
      "WT2021 0\n",
      "WT2022 0\n",
      "WT2023 0\n",
      "WT2024 0\n",
      "WT2025 0\n",
      "WT2026 0\n",
      "WT2027 0\n"
     ]
    }
   ],
   "source": [
    "for col in wt.columns:\n",
    "    print(col, wt[col].isnull().sum())"
   ]
  }
 ],
 "metadata": {
  "kernelspec": {
   "display_name": "Python [conda env:py36]",
   "language": "python",
   "name": "conda-env-py36-py"
  },
  "language_info": {
   "codemirror_mode": {
    "name": "ipython",
    "version": 3
   },
   "file_extension": ".py",
   "mimetype": "text/x-python",
   "name": "python",
   "nbconvert_exporter": "python",
   "pygments_lexer": "ipython3",
   "version": "3.6.3"
  }
 },
 "nbformat": 4,
 "nbformat_minor": 2
}
